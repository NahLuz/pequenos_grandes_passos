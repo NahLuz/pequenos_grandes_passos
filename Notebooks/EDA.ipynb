{
 "cells": [
  {
   "cell_type": "code",
   "execution_count": 1,
   "id": "e1078777",
   "metadata": {},
   "outputs": [
    {
     "name": "stdout",
     "output_type": "stream",
     "text": [
      "<class 'pandas.core.frame.DataFrame'>\n",
      "RangeIndex: 1502 entries, 0 to 1501\n",
      "Data columns (total 26 columns):\n",
      " #   Column                                   Non-Null Count  Dtype  \n",
      "---  ------                                   --------------  -----  \n",
      " 0   Nome do Produto                          1501 non-null   object \n",
      " 1   Categoria                                1501 non-null   object \n",
      " 2   Marca                                    1501 non-null   object \n",
      " 3   Calçado de Caminhada                     197 non-null    object \n",
      " 4   Material                                 1158 non-null   object \n",
      " 5   Gola                                     30 non-null     object \n",
      " 6   Ocasião                                  30 non-null     object \n",
      " 7   Estanpa                                  30 non-null     object \n",
      " 8   Gênero                                   1501 non-null   object \n",
      " 9   Tipos de Cintos                          431 non-null    object \n",
      " 10  Altura do Saltos                         385 non-null    object \n",
      " 11  Estilo do Sapato                         199 non-null    object \n",
      " 12  Quantidade                               1462 non-null   object \n",
      " 13  Ajuste Amplo                             24 non-null     object \n",
      " 14  Pluz Size                                21 non-null     object \n",
      " 15  Tamanho do pacote                        1330 non-null   object \n",
      " 16  Cor                                      1480 non-null   object \n",
      " 17  Tamanho                                  1465 non-null   object \n",
      " 18  Preço                                    1501 non-null   float64\n",
      " 19  Estoque                                  1501 non-null   float64\n",
      " 20  Peso                                     1501 non-null   object \n",
      " 21  Tamanho do pacote para cálculo do frete  1501 non-null   object \n",
      " 22  Taxa de envio                            1501 non-null   float64\n",
      " 23  Nome Simplificado                        1501 non-null   object \n",
      " 24  Link                                     1501 non-null   object \n",
      " 25  Imagem                                   1502 non-null   object \n",
      "dtypes: float64(3), object(23)\n",
      "memory usage: 305.2+ KB\n"
     ]
    },
    {
     "data": {
      "application/vnd.plotly.v1+json": {
       "config": {
        "plotlyServerURL": "https://plot.ly"
       },
       "data": [
        {
         "bingroup": "x",
         "hovertemplate": "Preço=%{x}<br>count=%{y}<extra></extra>",
         "legendgroup": "",
         "marker": {
          "color": "#636efa",
          "pattern": {
           "shape": ""
          }
         },
         "name": "",
         "nbinsx": 30,
         "orientation": "v",
         "showlegend": false,
         "type": "histogram",
         "x": {
          "bdata": "rkfhehT+UUCuR+F6FP5RQK5H4XoU/lFArkfhehT+UUCuR+F6FP5RQK5H4XoU/lFArkfhehT+UUCuR+F6FP5RQK5H4XoU/lFArkfhehT+UUCuR+F6FP5RQK5H4XoU/lFArkfhehT+UUCuR+F6FP5RQK5H4XoU/lFArkfhehT+UUCuR+F6FP5RQK5H4XoU/lFArkfhehT+UUCuR+F6FP5RQK5H4XoU/lFArkfhehT+UUCuR+F6FP5RQK5H4XoU/lFArkfhehT+UUCuR+F6FP5RQK5H4XoU/lFArkfhehT+UUCuR+F6FP5RQK5H4XoU/lFArkfhehT+UUCuR+F6FP5RQK5H4XoU/lFArkfhehT+UUCuR+F6FP5RQK5H4XoU/lFArkfhehT+UUCuR+F6FP5RQK5H4XoU/lFArkfhehT+UUCuR+F6FP5RQK5H4XoU/lFArkfhehT+UUCuR+F6FP5RQK5H4XoU/lFArkfhehT+UUCuR+F6FP5RQK5H4XoU/lFArkfhehT+UUCuR+F6FP5RQK5H4XoU/lFArkfhehT+UUCuR+F6FP5RQK5H4XoU/lFArkfhehT+UUCuR+F6FP5RQK5H4XoU/lFArkfhehT+UUCuR+F6FP5RQK5H4XoU/lFArkfhehT+UUCuR+F6FP5RQK5H4XoU/lFArkfhehT+UUCuR+F6FP5RQK5H4XoU/lFArkfhehT+UUCuR+F6FP5RQK5H4XoU/lFArkfhehT+UUCuR+F6FP5RQK5H4XoU/lFArkfhehT+UUCuR+F6FP5RQK5H4XoU/lFArkfhehT+UUCuR+F6FP5RQK5H4XoU/lFArkfhehT+UUCuR+F6FP5RQK5H4XoU/lFArkfhehT+UUCuR+F6FP5RQK5H4XoU/lFArkfhehT+UUCuR+F6FP5RQK5H4XoU/lFArkfhehT+UUCuR+F6FP5RQK5H4XoU/lFAj8L1KFy/UECPwvUoXL9QQI/C9Shcv1BAj8L1KFy/UECPwvUoXL9QQI/C9Shcv1BAj8L1KFy/UECPwvUoXL9QQI/C9Shcv1BAj8L1KFy/UECPwvUoXL9QQI/C9Shcv1BAj8L1KFy/UECPwvUoXL9QQI/C9Shcv1BAj8L1KFy/UECPwvUoXL9QQI/C9Shcv1BAj8L1KFy/UECPwvUoXL9QQI/C9Shcv1BAj8L1KFy/UECPwvUoXL9QQI/C9Shcv1BAj8L1KFy/UECPwvUoXL9QQI/C9Shcv1BAj8L1KFy/UECPwvUoXL9QQI/C9Shcv1BAj8L1KFy/UECPwvUoXL9QQI/C9Shcv1BAj8L1KFy/UECPwvUoXL9QQI/C9Shcv1BAj8L1KFy/UECPwvUoXL9QQI/C9Shcv1BAj8L1KFy/UECPwvUoXL9QQI/C9Shcv1BAj8L1KFy/UECPwvUoXL9QQI/C9Shcv1BAj8L1KFy/UECPwvUoXL9QQI/C9Shcv1BAj8L1KFy/UECPwvUoXL9QQI/C9Shcv1BAj8L1KFy/UECPwvUoXL9QQI/C9Shcv1BAj8L1KFy/UECPwvUoXL9QQI/C9Shcv1BAj8L1KFy/UECPwvUoXL9QQI/C9Shcv1BAj8L1KFy/UECPwvUoXL9QQI/C9Shcv1BAj8L1KFy/UECPwvUoXL9QQI/C9Shcv1BAj8L1KFy/UECPwvUoXL9QQI/C9Shcv1BAj8L1KFy/UECPwvUoXL9QQI/C9Shcv1BAj8L1KFy/UECPwvUoXL9QQI/C9Shcv1BAj8L1KFy/UECPwvUoXL9QQI/C9Shcv1BAj8L1KFy/UECPwvUoXL9QQI/C9Shcv1BAj8L1KFy/UECPwvUoXL9QQI/C9Shcv1BAj8L1KFy/UECPwvUoXL9QQI/C9Shcv1BAj8L1KFy/UECPwvUoXL9QQI/C9Shcv1BArkfhehR+UkCuR+F6FH5SQK5H4XoUflJArkfhehR+UkCuR+F6FH5SQK5H4XoUflJArkfhehR+UkCuR+F6FH5SQK5H4XoUflJArkfhehR+UkCuR+F6FH5SQK5H4XoUflJArkfhehR+UkCuR+F6FH5SQK5H4XoUflJArkfhehR+UkCuR+F6FH5SQK5H4XoUflJArkfhehR+UkCuR+F6FH5SQK5H4XoUflJArkfhehR+UkCuR+F6FH5SQK5H4XoUflJArkfhehR+UkCuR+F6FH5SQK5H4XoUflJArkfhehR+UkCuR+F6FH5SQK5H4XoUflJArkfhehR+UkCuR+F6FH5SQK5H4XoUflJArkfhehR+UkCuR+F6FH5SQK5H4XoUflJArkfhehR+UkCuR+F6FH5SQK5H4XoUflJArkfhehR+UkCuR+F6FH5SQK5H4XoUflJArkfhehR+UkCuR+F6FH5SQK5H4XoUflJArkfhehR+UkCuR+F6FH5SQK5H4XoUflJArkfhehR+UkCuR+F6FH5SQK5H4XoUflJArkfhehR+UkCuR+F6FH5SQK5H4XoUflJArkfhehR+UkCuR+F6FH5SQK5H4XoUflJArkfhehR+UkCuR+F6FH5SQK5H4XoUflJArkfhehR+UkCuR+F6FH5SQK5H4XoUflJArkfhehR+UkCuR+F6FH5SQK5H4XoUflJArkfhehR+UkCuR+F6FH5SQK5H4XoUflJArkfhehR+UkCuR+F6FH5SQK5H4XoUflJArkfhehR+UkCuR+F6FH5SQK5H4XoUflJArkfhehR+UkCuR+F6FH5SQK5H4XoUflJArkfhehR+UkCuR+F6FH5SQK5H4XoUflJArkfhehR+UkCuR+F6FH5SQK5H4XoUflJArkfhehR+UkCuR+F6FH5SQK5H4XoUflJArkfhehR+UkCuR+F6FH5SQK5H4XoUflJASOF6FK6/YUBI4XoUrr9hQEjhehSuv2FASOF6FK6/YUBI4XoUrr9hQEjhehSuv2FASOF6FK6/YUBI4XoUrr9hQEjhehSuv2FASOF6FK6/YUBI4XoUrr9hQEjhehSuv2FASOF6FK6/YUBI4XoUrr9hQEjhehSuv2FASOF6FK6/YUBI4XoUrr9hQEjhehSuv2FASOF6FK6/YUBI4XoUrr9hQEjhehSuv2FASOF6FK6/YUBI4XoUrr9hQEjhehSuv2FASOF6FK6/YUBI4XoUrr9hQEjhehSuv2FASOF6FK6/YUBI4XoUrr9hQEjhehSuv2FASOF6FK6/YUBI4XoUrr9hQEjhehSuv2FASOF6FK6/YUBI4XoUrr9hQEjhehSuv2FAj8L1KFw/UUCPwvUoXD9RQI/C9ShcP1FAj8L1KFw/UUCPwvUoXD9RQI/C9ShcP1FAj8L1KFw/UUCPwvUoXD9RQI/C9ShcP1FAj8L1KFw/UUCPwvUoXD9RQI/C9ShcP1FAj8L1KFw/UUCPwvUoXD9RQI/C9ShcP1FAj8L1KFw/UUCPwvUoXD9RQI/C9ShcP1FAj8L1KFw/UUCPwvUoXD9RQI/C9ShcP1FAj8L1KFw/UUCPwvUoXD9RQI/C9ShcP1FAj8L1KFx/WkCPwvUoXH9aQI/C9Shcf1pAj8L1KFx/WkCPwvUoXH9aQI/C9Shcf1pAj8L1KFx/WkCPwvUoXH9aQI/C9Shcf1pAj8L1KFx/WkCPwvUoXH9aQI/C9Shcf1pAj8L1KFy/UECPwvUoXL9QQI/C9Shcv1BAj8L1KFy/UECPwvUoXL9QQI/C9Shcv1BAj8L1KFy/UECPwvUoXL9QQI/C9Shcv1BAj8L1KFy/UECPwvUoXL9QQI/C9Shcv1BAj8L1KFy/UECPwvUoXL9QQI/C9Shcv1BAj8L1KFy/UECPwvUoXL9QQI/C9Shcv1BAj8L1KFy/UECPwvUoXL9QQI/C9Shcv1BAj8L1KFy/UECPwvUoXL9QQI/C9Shcv1BAj8L1KFy/UECPwvUoXL9QQI/C9Shcv1BAj8L1KFy/UECPwvUoXL9QQI/C9Shcv1BAj8L1KFy/UECPwvUoXL9QQI/C9Shcv1BAj8L1KFy/UECPwvUoXL9QQI/C9Shcv1BAj8L1KFy/UECPwvUoXL9QQI/C9Shcv1BAj8L1KFy/UECPwvUoXL9QQI/C9Shcv1BAj8L1KFy/UECPwvUoXL9QQI/C9Shcv1BAj8L1KFy/UECPwvUoXL9QQI/C9Shcv1BAj8L1KFy/UECPwvUoXL9QQI/C9Shcv1BAj8L1KFy/UECPwvUoXL9QQI/C9Shcv1BAj8L1KFy/UECPwvUoXL9QQI/C9Shcv1BAj8L1KFy/UECPwvUoXL9QQI/C9Shcv1BAj8L1KFy/UECPwvUoXL9QQI/C9Shcv1BAj8L1KFy/UECPwvUoXL9QQI/C9Shcv1BAj8L1KFy/UECPwvUoXL9QQI/C9Shcv1BAj8L1KFy/UECPwvUoXL9QQI/C9Shcv1BAj8L1KFw/UUCPwvUoXD9RQI/C9ShcP1FAj8L1KFw/UUCPwvUoXD9RQI/C9ShcP1FAj8L1KFw/UUCPwvUoXD9RQI/C9ShcP1FAj8L1KFw/UUCPwvUoXD9RQI/C9ShcP1FAj8L1KFw/UUCPwvUoXD9RQI/C9ShcP1FAj8L1KFw/UUCPwvUoXD9RQI/C9ShcP1FAj8L1KFw/UUCPwvUoXD9RQI/C9ShcP1FAj8L1KFw/UUCPwvUoXD9RQI/C9ShcP1FAj8L1KFx/UkCPwvUoXH9SQI/C9Shcf1JAj8L1KFx/UkCPwvUoXH9SQI/C9Shcf1JAj8L1KFx/UkCPwvUoXH9SQI/C9Shcf1JAj8L1KFx/UkCPwvUoXH9SQI/C9Shcf1JAj8L1KFx/UkCPwvUoXH9SQI/C9Shcf1JAj8L1KFx/UkCPwvUoXH9SQI/C9Shcf1JAj8L1KFx/UkCPwvUoXH9SQI/C9Shcf1JAj8L1KFx/UkCPwvUoXH9SQI/C9Shcf1JAj8L1KFx/UkCPwvUoXH9SQI/C9Shcf1JAj8L1KFx/UkCPwvUoXH9SQI/C9Shcf1JAj8L1KFx/UkCPwvUoXH9SQI/C9Shcf1JAj8L1KFx/UkCPwvUoXH9SQI/C9Shcf1JAj8L1KFx/UkCPwvUoXH9SQI/C9Shcf1JAj8L1KFx/UkCPwvUoXH9SQI/C9Shcf1JAj8L1KFx/UkCPwvUoXH9SQI/C9Shcf1JAj8L1KFx/UkCPwvUoXH9SQI/C9Shcf1JAj8L1KFx/UkCPwvUoXH9SQI/C9Shcf1JAj8L1KFx/UkCPwvUoXH9SQI/C9Shcf1JAj8L1KFx/UkCPwvUoXH9SQI/C9Shcf1JAj8L1KFx/UkCPwvUoXH9SQI/C9Shcf1JAj8L1KFy/UECPwvUoXL9QQI/C9Shcv1BAj8L1KFy/UECPwvUoXL9QQI/C9Shcv1BAj8L1KFy/UECPwvUoXL9QQI/C9Shcv1BAj8L1KFy/UECPwvUoXL9QQI/C9Shcv1BAj8L1KFy/UECPwvUoXL9QQI/C9Shcv1BAj8L1KFy/UECPwvUoXL9QQI/C9Shcv1BAj8L1KFy/UECPwvUoXL9QQI/C9Shcv1BAj8L1KFy/UECPwvUoXL9QQI/C9Shcv1BAj8L1KFy/UECPwvUoXH9SQI/C9Shcv1BAj8L1KFy/UECPwvUoXL9QQI/C9Shcv1BAj8L1KFy/UECPwvUoXL9QQI/C9Shcv1BAj8L1KFy/UECPwvUoXL9QQI/C9Shcv1BAj8L1KFy/UECPwvUoXL9QQI/C9Shcv1BAj8L1KFy/UECPwvUoXL9QQI/C9Shcv1BAj8L1KFy/UECPwvUoXL9QQI/C9Shcv1BAj8L1KFy/UECPwvUoXL9QQI/C9Shcv1BAj8L1KFy/UECPwvUoXL9QQI/C9Shcv1BAj8L1KFx/UkCPwvUoXL9QQI/C9Shcv1BAj8L1KFy/UECPwvUoXL9QQI/C9Shcv1BAj8L1KFy/UECPwvUoXL9QQI/C9Shcv1BAj8L1KFy/UECPwvUoXL9QQI/C9Shcv1BAj8L1KFy/UECPwvUoXL9QQI/C9Shcv1BAj8L1KFy/UECPwvUoXL9QQI/C9Shcv1BAj8L1KFy/UECPwvUoXL9QQI/C9Shcv1BAj8L1KFy/UECPwvUoXL9QQI/C9Shcv1BAj8L1KFy/UECPwvUoXL9QQI/C9Shc/1lAj8L1KFz/WUCPwvUoXP9ZQI/C9Shc/1lAj8L1KFz/WUCPwvUoXP9ZQI/C9Shc/1lAj8L1KFz/WUCPwvUoXP9ZQI/C9Shc/1lAj8L1KFz/WUCPwvUoXP9ZQEjhehSuf2ZASOF6FK5/ZkBI4XoUrn9mQEjhehSuf2ZASOF6FK5/ZkBI4XoUrn9mQEjhehSuf2ZASOF6FK5/ZkBI4XoUrn9mQEjhehSuf2ZASOF6FK5/ZkBI4XoUrn9mQEjhehSuf2ZASOF6FK5/ZkBI4XoUrn9mQEjhehSuf2ZASOF6FK5/ZkBI4XoUrn9mQI/C9Shc/15Aj8L1KFz/XkCPwvUoXP9eQI/C9Shc/15Aj8L1KFz/XkCPwvUoXP9eQI/C9Shc/15Aj8L1KFz/XkCPwvUoXP9eQI/C9Shc/15Aj8L1KFz/XkCPwvUoXP9eQI/C9Shc/15Aj8L1KFz/XkCPwvUoXP9eQI/C9Shc/15Aj8L1KFz/XkCPwvUoXP9eQI/C9Shcv1BAj8L1KFy/UECPwvUoXL9QQI/C9Shcv1BAj8L1KFy/UECPwvUoXL9QQI/C9Shcv1BAj8L1KFy/UECPwvUoXL9QQI/C9Shcv1BAj8L1KFy/UECPwvUoXL9QQI/C9Shcv1BAj8L1KFy/UECPwvUoXL9QQI/C9Shcv1BAj8L1KFy/UECPwvUoXL9QQI/C9Shcv1BAj8L1KFy/UECPwvUoXL9QQI/C9Shcv1BAj8L1KFy/UECPwvUoXL9QQI/C9Shcv1BAj8L1KFy/UECPwvUoXL9QQI/C9Shcv1BAj8L1KFy/UECPwvUoXL9QQI/C9Shcv1BAj8L1KFy/UECPwvUoXL9QQI/C9Shcv1BAj8L1KFy/UECPwvUoXL9QQI/C9Shcv1BAj8L1KFy/UECPwvUoXL9QQI/C9Shcv1BAj8L1KFy/UECPwvUoXL9QQI/C9Shcv1BAj8L1KFy/UECPwvUoXL9QQI/C9Shcv1BAj8L1KFy/UECPwvUoXL9QQI/C9Shcv1BAj8L1KFy/UECPwvUoXL9QQI/C9Shcv1BAj8L1KFy/UECPwvUoXL9QQI/C9Shcv1BAj8L1KFy/UECPwvUoXL9QQI/C9Shcv1BAj8L1KFy/UECPwvUoXL9QQI/C9Shcv1BAj8L1KFy/UECPwvUoXL9QQI/C9Shcv1BAj8L1KFy/UECPwvUoXL9QQI/C9Shcv1BAj8L1KFy/UECPwvUoXL9QQI/C9Shcv1BAj8L1KFy/UECPwvUoXL9QQI/C9Shcv1BAj8L1KFy/UECPwvUoXL9QQI/C9Shc/1FAj8L1KFz/UUCPwvUoXP9RQI/C9Shc/1FAj8L1KFz/UUCPwvUoXP9RQI/C9Shc/1FAj8L1KFz/UUCPwvUoXP9RQI/C9Shc/1FAj8L1KFz/UUCPwvUoXP9RQI/C9Shc/1FAj8L1KFz/UUCPwvUoXP9RQI/C9Shc/1FAj8L1KFz/UUCPwvUoXP9RQI/C9Shc/1FAj8L1KFz/UUCPwvUoXP9RQI/C9Shc/1FAj8L1KFz/UUCPwvUoXP9RQI/C9Shc/1FAj8L1KFz/UUCPwvUoXP9RQI/C9Shc/1FAj8L1KFz/UUCPwvUoXP9RQI/C9Shc/1FAj8L1KFz/UUCPwvUoXP9RQI/C9Shc/1FAj8L1KFz/UUCPwvUoXP9RQI/C9Shc/1FAj8L1KFz/UUCPwvUoXP9RQI/C9Shc/1FAj8L1KFz/UUCPwvUoXP9RQI/C9Shc/1FAj8L1KFz/UUCPwvUoXP9RQI/C9Shc/1FAj8L1KFz/UUCPwvUoXP9RQI/C9Shc/1FAj8L1KFz/UUCPwvUoXP9RQI/C9Shc/1FAj8L1KFz/UUCPwvUoXP9RQI/C9Shc/1FAj8L1KFz/UUCPwvUoXP9RQI/C9Shc/1FAj8L1KFz/UUCPwvUoXP9RQI/C9Shc/1FAj8L1KFz/UUCPwvUoXP9RQI/C9Shc/1FAj8L1KFz/UUCPwvUoXP9RQI/C9Shc/1FAj8L1KFz/UUCPwvUoXP9RQI/C9Shc/1FAj8L1KFz/UUCPwvUoXP9RQI/C9Shc/1FAj8L1KFz/UUCPwvUoXP9RQI/C9Shc/1FAj8L1KFz/UUCPwvUoXP9RQI/C9Shc/1FAj8L1KFz/UUCPwvUoXP9RQI/C9Shc/1FAj8L1KFz/UUCPwvUoXP9RQI/C9Shc/1FAj8L1KFz/UUCPwvUoXP9RQI/C9Shc/1FAj8L1KFz/UUCPwvUoXP9RQI/C9Shc/1FAj8L1KFz/UUCPwvUoXP9RQI/C9Shc/1FAj8L1KFz/UUCPwvUoXP9RQI/C9Shc/1FAj8L1KFz/UUCPwvUoXP9RQI/C9Shc/1FAj8L1KFz/UUCPwvUoXP9RQI/C9Shc/1FAj8L1KFz/UUCPwvUoXP9RQI/C9Shc/1FAj8L1KFz/UUCPwvUoXP9RQI/C9Shc/1FAj8L1KFz/UUCPwvUoXP9RQI/C9Shc/1FAj8L1KFz/UUCPwvUoXP9RQI/C9Shc/1FAj8L1KFz/UUCPwvUoXP9RQI/C9Shc/1FAj8L1KFz/UUCPwvUoXP9RQI/C9Shc/1FAj8L1KFz/UUCPwvUoXP9RQI/C9Shc/1FAj8L1KFz/UUCPwvUoXP9RQI/C9Shc/1FAj8L1KFz/UUCPwvUoXP9RQI/C9Shc/1FAj8L1KFz/UUCPwvUoXP9RQI/C9Shc/1FAj8L1KFz/UUCPwvUoXP9RQI/C9Shc/1FAj8L1KFz/UUCPwvUoXP9RQI/C9Shc/1FAj8L1KFz/UUCPwvUoXP9RQI/C9Shc/1FAj8L1KFz/UUCPwvUoXP9RQI/C9Shc/1FAj8L1KFz/UUCPwvUoXP9RQI/C9Shc/1FAj8L1KFz/UUCPwvUoXP9RQI/C9Shc/1FAj8L1KFz/UUCPwvUoXP9RQI/C9Shc/1FAj8L1KFz/UUCPwvUoXP9RQI/C9Shc/1FAj8L1KFz/UUCPwvUoXP9RQI/C9Shc/1FAj8L1KFz/UUCPwvUoXP9RQI/C9Shc/1FAj8L1KFz/UUCPwvUoXP9RQI/C9Shc/1FAj8L1KFz/UUCPwvUoXP9RQI/C9Shc/1FAj8L1KFz/UUCPwvUoXP9RQI/C9Shc/1FAj8L1KFz/UUCPwvUoXP9RQI/C9Shc/1FAj8L1KFz/UUCPwvUoXP9RQI/C9Shc/1FAj8L1KFz/UUCPwvUoXP9RQI/C9Shc/1FAj8L1KFz/UUCPwvUoXP9RQI/C9Shc/1FAj8L1KFz/UUCPwvUoXP9RQI/C9Shc/1FAj8L1KFz/UUCPwvUoXP9RQI/C9Shc/1FAj8L1KFz/UUCPwvUoXP9RQI/C9Shc/1FAj8L1KFz/UUCPwvUoXP9RQI/C9Shc/1FAj8L1KFz/UUCPwvUoXP9RQI/C9Shc/1FAj8L1KFz/UUCPwvUoXP9RQI/C9Shc/1FAj8L1KFz/UUCPwvUoXP9RQI/C9Shc/1FAj8L1KFz/UUCPwvUoXP9RQI/C9Shc/1FAj8L1KFz/UUCPwvUoXP9RQI/C9Shc/1FAj8L1KFz/UUCPwvUoXP9RQI/C9Shc/1FAj8L1KFz/UUCPwvUoXP9RQI/C9Shc/1FAj8L1KFz/UUCPwvUoXP9RQI/C9Shc/1FAj8L1KFz/UUCPwvUoXP9RQI/C9Shc/1FAj8L1KFz/UUCPwvUoXP9RQI/C9Shc/1FAj8L1KFz/UUCPwvUoXP9RQI/C9Shc/1FAj8L1KFz/UUCPwvUoXP9RQI/C9Shc/1FAj8L1KFz/UUCPwvUoXP9RQI/C9Shc/1FAj8L1KFz/UUCPwvUoXP9RQI/C9Shc/1FAj8L1KFz/UUCPwvUoXP9RQI/C9Shc/1FAj8L1KFz/UUCPwvUoXP9RQI/C9Shc/1FAj8L1KFz/UUCPwvUoXP9RQI/C9Shc/1FAj8L1KFz/UUCPwvUoXP9RQI/C9Shc/1FAj8L1KFz/UUCPwvUoXP9RQI/C9Shc/1FAj8L1KFz/UUCPwvUoXP9RQI/C9Shc/1FAj8L1KFz/UUCPwvUoXP9RQI/C9Shc/1FAj8L1KFz/UUCPwvUoXP9RQI/C9Shc/1FAj8L1KFz/UUCPwvUoXP9RQI/C9Shc/1FAj8L1KFz/UUCPwvUoXP9RQI/C9Shc/1FAj8L1KFz/UUCPwvUoXP9RQI/C9Shc/1FAj8L1KFz/UUCPwvUoXP9RQI/C9Shc/1FAj8L1KFz/UUCPwvUoXP9RQI/C9Shc/1FAj8L1KFz/UUCPwvUoXP9RQI/C9Shc/1FAj8L1KFz/UUCPwvUoXP9RQI/C9Shc/1FAj8L1KFz/UUCPwvUoXP9RQI/C9Shc/1FAj8L1KFz/UUCPwvUoXP9RQI/C9Shc/1FAj8L1KFz/UUCPwvUoXP9RQI/C9Shc/1FAj8L1KFz/UUCPwvUoXP9RQEjhehSuP2BASOF6FK4/YEBI4XoUrj9gQEjhehSuP2BASOF6FK4/YEBI4XoUrj9gQEjhehSuP2BASOF6FK4/YEBI4XoUrj9gQI/C9Shc/1FAj8L1KFz/UUCPwvUoXP9RQI/C9Shc/1FAj8L1KFz/UUCPwvUoXP9RQI/C9Shc/1FAj8L1KFz/UUCPwvUoXP9RQI/C9Shc/1FAj8L1KFz/UUCPwvUoXP9RQI/C9Shc/1FAj8L1KFz/UUCPwvUoXP9RQI/C9Shc/1FAj8L1KFz/UUCPwvUoXP9RQI/C9Shc/1FAj8L1KFz/UUCPwvUoXP9RQI/C9Shc/1FAj8L1KFz/UUCPwvUoXP9RQI/C9Shc/1FAj8L1KFz/UUCPwvUoXP9RQI/C9Shc/1FAj8L1KFz/UUCPwvUoXP9RQI/C9Shc/1FAj8L1KFz/UUCPwvUoXP9RQI/C9Shc/1FAj8L1KFz/UUCPwvUoXP9RQB+F61G4/k1AH4XrUbj+TUAfhetRuP5NQB+F61G4/k1AH4XrUbj+TUAfhetRuP5NQB+F61G4/k1AH4XrUbj+TUAfhetRuP5NQB+F61G4/k1AH4XrUbj+TUAfhetRuP5NQI/C9ShcP1NAj8L1KFw/U0CPwvUoXD9TQI/C9ShcP1NAj8L1KFw/U0CPwvUoXD9TQI/C9ShcP1NAj8L1KFw/U0CPwvUoXD9TQI/C9ShcP1NAj8L1KFw/U0CPwvUoXD9TQI/C9ShcP1NAj8L1KFw/U0CPwvUoXD9TQI/C9ShcP1NAj8L1KFw/U0CPwvUoXD9TQI/C9ShcP1NAj8L1KFw/U0CPwvUoXD9TQI/C9ShcP1NAj8L1KFw/U0CPwvUoXD9TQI/C9ShcP1NAj8L1KFw/U0CPwvUoXD9TQI/C9ShcP1NAj8L1KFw/U0CPwvUoXD9TQI/C9ShcP1NAj8L1KFw/U0CPwvUoXD9TQI/C9ShcP1NAj8L1KFw/U0CPwvUoXD9TQI/C9ShcP1NAj8L1KFw/U0CPwvUoXD9TQI/C9ShcP1NAj8L1KFw/U0CPwvUoXD9TQI/C9ShcP1NAj8L1KFw/U0CPwvUoXD9TQI/C9ShcP1NAj8L1KFw/U0CPwvUoXD9TQI/C9ShcP1NAj8L1KFw/U0CPwvUoXD9TQI/C9ShcP1NAj8L1KFw/U0CPwvUoXD9TQI/C9ShcP1NAj8L1KFw/U0CPwvUoXD9TQI/C9ShcP1NAj8L1KFw/U0CPwvUoXD9TQI/C9Shcv1VAj8L1KFy/VUCPwvUoXL9VQI/C9Shcv1VAj8L1KFy/VUCPwvUoXL9VQI/C9Shcv1VAj8L1KFy/VUCPwvUoXL9VQI/C9Shcv1VAj8L1KFy/VUCPwvUoXL9VQI/C9Shcv1VAj8L1KFy/VUCPwvUoXL9VQI/C9Shcv1VAj8L1KFy/VUCPwvUoXL9VQI/C9Shcv1VAj8L1KFy/VUCPwvUoXL9VQI/C9Shcv1VAj8L1KFy/VUCPwvUoXL9VQI/C9Shcv1BAj8L1KFy/UECPwvUoXL9QQI/C9Shcv1BAj8L1KFy/UECPwvUoXL9QQI/C9Shcv1BAj8L1KFy/UECPwvUoXL9QQI/C9Shcv1BAj8L1KFy/UECPwvUoXL9QQI/C9Shcv1BAj8L1KFy/UECPwvUoXL9QQI/C9Shcv1BAj8L1KFy/UECPwvUoXL9QQI/C9Shcv1BAj8L1KFy/UECPwvUoXL9QQI/C9Shcv1BAj8L1KFy/UECPwvUoXL9QQI/C9Shcv1BAj8L1KFy/UECPwvUoXL9QQI/C9Shcv1BAj8L1KFy/UECPwvUoXL9QQI/C9Shcv1BAj8L1KFy/UECPwvUoXL9QQI/C9Shcv1BAj8L1KFy/UECPwvUoXL9QQI/C9Shc/1NAj8L1KFz/U0CPwvUoXP9TQI/C9Shc/1NAj8L1KFz/U0CPwvUoXP9TQI/C9Shc/1NAj8L1KFz/U0CPwvUoXP9TQI/C9Shc/1NAj8L1KFz/U0CPwvUoXP9TQI/C9Shc/1NAj8L1KFz/U0CPwvUoXP9TQI/C9Shc/1NAj8L1KFz/U0CPwvUoXP9TQI/C9Shc/1NAj8L1KFz/U0CPwvUoXP9TQI/C9Shc/1NAj8L1KFz/U0CPwvUoXP9TQI/C9Shc/1NAj8L1KFz/U0CPwvUoXP9TQI/C9Shc/1NAj8L1KFz/U0CPwvUoXP9TQI/C9Shc/1NAj8L1KFz/U0CPwvUoXP9TQI/C9Shc/1NAj8L1KFz/U0CPwvUoXP9TQI/C9Shc/1NAj8L1KFz/U0CPwvUoXP9TQI/C9Shc/1NAj8L1KFz/U0CPwvUoXP9TQI/C9Shc/1NAj8L1KFz/U0CPwvUoXP9TQI/C9Shc/1NAj8L1KFz/U0CPwvUoXP9TQI/C9Shc/1NAj8L1KFz/U0CPwvUoXP9TQI/C9Shc/1NAj8L1KFz/U0CPwvUoXP9TQI/C9Shc/1NAj8L1KFz/U0CPwvUoXP9TQI/C9Shc/1NAj8L1KFz/U0CPwvUoXP9TQI/C9Shc/1NAj8L1KFz/U0CPwvUoXP9TQI/C9Shc/1NAj8L1KFz/U0CPwvUoXP9TQI/C9Shc/1NAj8L1KFz/U0CPwvUoXP9TQI/C9Shc/1NAj8L1KFz/U0CPwvUoXP9TQI/C9Shc/1NAj8L1KFz/U0CPwvUoXP9TQI/C9ShcP1FAj8L1KFw/UUCPwvUoXD9RQI/C9ShcP1FAj8L1KFw/UUCPwvUoXD9RQI/C9ShcP1FAj8L1KFw/UUCPwvUoXD9RQI/C9ShcP1FAj8L1KFw/UUCPwvUoXD9RQI/C9ShcP1FAj8L1KFw/UUCPwvUoXD9RQI/C9ShcP1FAj8L1KFw/UUCPwvUoXD9RQI/C9ShcP1FAj8L1KFw/UUCPwvUoXD9RQI/C9ShcP1FAj8L1KFw/UUCPwvUoXD9RQI/C9ShcP1FAj8L1KFw/UUCPwvUoXD9RQI/C9ShcP1FAj8L1KFw/UUCPwvUoXD9RQI/C9ShcP1FAj8L1KFw/UUCPwvUoXD9RQI/C9ShcP1FAj8L1KFw/UUCPwvUoXD9RQI/C9ShcP1FAj8L1KFw/UUCPwvUoXD9RQI/C9ShcP1FAj8L1KFw/UUCPwvUoXD9RQI/C9ShcP1FAj8L1KFw/UUCPwvUoXD9RQI/C9ShcP1FAj8L1KFw/UUCPwvUoXD9RQI/C9ShcP1FAj8L1KFw/UUCPwvUoXD9RQI/C9ShcP1FAj8L1KFw/UUCPwvUoXD9RQI/C9ShcP1FAj8L1KFw/UUCPwvUoXD9RQI/C9ShcP1FAj8L1KFw/UUCPwvUoXD9RQI/C9ShcP1FAj8L1KFw/UUCPwvUoXD9RQI/C9ShcP1FAj8L1KFw/UUCPwvUoXD9RQI/C9ShcP1FAj8L1KFw/UUCPwvUoXD9RQI/C9ShcP1FAj8L1KFw/UUCPwvUoXD9RQI/C9ShcP1FAj8L1KFw/UUCPwvUoXD9RQI/C9ShcP1FAj8L1KFw/UUCPwvUoXD9RQI/C9ShcP1FAj8L1KFw/UUCPwvUoXD9RQI/C9ShcP1FAj8L1KFw/UUCPwvUoXD9RQI/C9Shcv1BAj8L1KFy/UECPwvUoXL9QQI/C9Shcv1BAj8L1KFy/UECPwvUoXL9QQI/C9Shcv1BAj8L1KFy/UECPwvUoXL9QQI/C9Shcv1BAj8L1KFy/UECPwvUoXL9QQI/C9Shcv1BAj8L1KFy/UECPwvUoXL9QQI/C9Shcv1BAj8L1KFy/UECPwvUoXL9QQI/C9Shcv1BAj8L1KFy/UECPwvUoXL9QQI/C9Shcv1BAj8L1KFy/UECPwvUoXL9QQI/C9Shcv1BAj8L1KFy/UECPwvUoXL9QQI/C9Shcv1BAj8L1KFy/UECPwvUoXL9QQI/C9Shcv1BAj8L1KFy/UECPwvUoXL9QQI/C9Shcv1BAj8L1KFy/UECPwvUoXL9QQI/C9Shcv1BAj8L1KFy/UECPwvUoXL9QQI/C9Shcv1BAj8L1KFy/UECPwvUoXL9QQI/C9Shcv1BAj8L1KFy/UECPwvUoXL9QQI/C9Shcv1BAj8L1KFy/UECPwvUoXL9QQI/C9Shcv1BAj8L1KFy/UECPwvUoXL9QQI/C9Shcv1BAj8L1KFy/UECPwvUoXL9QQI/C9Shcv1BAj8L1KFy/UECPwvUoXL9QQI/C9Shcv1BAj8L1KFy/UECPwvUoXL9QQI/C9Shcv1BAj8L1KFy/UECPwvUoXL9QQI/C9Shcv1BAj8L1KFy/UECPwvUoXL9QQI/C9Shcv1BAj8L1KFy/UECPwvUoXL9QQI/C9Shcv1BAj8L1KFy/UECPwvUoXL9QQI/C9Shcv1BAj8L1KFy/UECPwvUoXL9QQI/C9Shcv1BAj8L1KFy/UECPwvUoXL9QQI/C9Shcv1BAj8L1KFy/UECPwvUoXL9QQI/C9Shcv1BAj8L1KFy/UECPwvUoXL9QQI/C9Shcv1BAj8L1KFy/UECPwvUoXL9QQI/C9Shcv1BAj8L1KFy/UECPwvUoXL9QQI/C9Shcv1BAj8L1KFy/UECPwvUoXL9QQI/C9Shcv1BAj8L1KFy/UECPwvUoXL9QQI/C9Shcv1BAj8L1KFy/UECPwvUoXL9QQI/C9Shcv1BAj8L1KFy/UECPwvUoXL9QQI/C9Shcv1BAj8L1KFy/UECPwvUoXL9QQI/C9Shcv1BAj8L1KFy/UECPwvUoXL9QQClcj8L1OFFAKVyPwvU4UUApXI/C9ThRQClcj8L1OFFAKVyPwvU4UUApXI/C9ThRQClcj8L1OFFAKVyPwvU4UUApXI/C9ThRQClcj8L1OFFAKVyPwvU4UUApXI/C9ThRQClcj8L1OFFAKVyPwvU4UUApXI/C9ThRQClcj8L1OFFAKVyPwvU4UUApXI/C9ThRQClcj8L1OFFAKVyPwvU4UUApXI/C9ThRQClcj8L1OFFAKVyPwvU4UUApXI/C9ThRQClcj8L1OFFAKVyPwvU4UUApXI/C9ThRQClcj8L1OFFAKVyPwvU4UUApXI/C9ThRQClcj8L1OFFAKVyPwvU4UUApXI/C9ThRQClcj8L1OFFAKVyPwvU4UUApXI/C9ThRQClcj8L1OFFAKVyPwvU4UUApXI/C9ThRQClcj8L1OFFAKVyPwvU4UUApXI/C9ThRQClcj8L1OFFAKVyPwvU4UUApXI/C9ThRQClcj8L1OFFAKVyPwvU4UUApXI/C9ThRQClcj8L1OFFAKVyPwvU4UUApXI/C9ThRQClcj8L1OFFAKVyPwvU4UUApXI/C9ThRQClcj8L1OFFAKVyPwvU4UUApXI/C9ThRQClcj8L1OFFAKVyPwvU4UUApXI/C9ThRQClcj8L1OFFAKVyPwvU4UUAfhetRuD5dQB+F61G4Pl1AH4XrUbg+XUAAAAAAAAD4fw==",
          "dtype": "f8"
         },
         "xaxis": "x",
         "yaxis": "y"
        }
       ],
       "layout": {
        "barmode": "relative",
        "legend": {
         "tracegroupgap": 0
        },
        "template": {
         "data": {
          "bar": [
           {
            "error_x": {
             "color": "#2a3f5f"
            },
            "error_y": {
             "color": "#2a3f5f"
            },
            "marker": {
             "line": {
              "color": "#E5ECF6",
              "width": 0.5
             },
             "pattern": {
              "fillmode": "overlay",
              "size": 10,
              "solidity": 0.2
             }
            },
            "type": "bar"
           }
          ],
          "barpolar": [
           {
            "marker": {
             "line": {
              "color": "#E5ECF6",
              "width": 0.5
             },
             "pattern": {
              "fillmode": "overlay",
              "size": 10,
              "solidity": 0.2
             }
            },
            "type": "barpolar"
           }
          ],
          "carpet": [
           {
            "aaxis": {
             "endlinecolor": "#2a3f5f",
             "gridcolor": "white",
             "linecolor": "white",
             "minorgridcolor": "white",
             "startlinecolor": "#2a3f5f"
            },
            "baxis": {
             "endlinecolor": "#2a3f5f",
             "gridcolor": "white",
             "linecolor": "white",
             "minorgridcolor": "white",
             "startlinecolor": "#2a3f5f"
            },
            "type": "carpet"
           }
          ],
          "choropleth": [
           {
            "colorbar": {
             "outlinewidth": 0,
             "ticks": ""
            },
            "type": "choropleth"
           }
          ],
          "contour": [
           {
            "colorbar": {
             "outlinewidth": 0,
             "ticks": ""
            },
            "colorscale": [
             [
              0,
              "#0d0887"
             ],
             [
              0.1111111111111111,
              "#46039f"
             ],
             [
              0.2222222222222222,
              "#7201a8"
             ],
             [
              0.3333333333333333,
              "#9c179e"
             ],
             [
              0.4444444444444444,
              "#bd3786"
             ],
             [
              0.5555555555555556,
              "#d8576b"
             ],
             [
              0.6666666666666666,
              "#ed7953"
             ],
             [
              0.7777777777777778,
              "#fb9f3a"
             ],
             [
              0.8888888888888888,
              "#fdca26"
             ],
             [
              1,
              "#f0f921"
             ]
            ],
            "type": "contour"
           }
          ],
          "contourcarpet": [
           {
            "colorbar": {
             "outlinewidth": 0,
             "ticks": ""
            },
            "type": "contourcarpet"
           }
          ],
          "heatmap": [
           {
            "colorbar": {
             "outlinewidth": 0,
             "ticks": ""
            },
            "colorscale": [
             [
              0,
              "#0d0887"
             ],
             [
              0.1111111111111111,
              "#46039f"
             ],
             [
              0.2222222222222222,
              "#7201a8"
             ],
             [
              0.3333333333333333,
              "#9c179e"
             ],
             [
              0.4444444444444444,
              "#bd3786"
             ],
             [
              0.5555555555555556,
              "#d8576b"
             ],
             [
              0.6666666666666666,
              "#ed7953"
             ],
             [
              0.7777777777777778,
              "#fb9f3a"
             ],
             [
              0.8888888888888888,
              "#fdca26"
             ],
             [
              1,
              "#f0f921"
             ]
            ],
            "type": "heatmap"
           }
          ],
          "histogram": [
           {
            "marker": {
             "pattern": {
              "fillmode": "overlay",
              "size": 10,
              "solidity": 0.2
             }
            },
            "type": "histogram"
           }
          ],
          "histogram2d": [
           {
            "colorbar": {
             "outlinewidth": 0,
             "ticks": ""
            },
            "colorscale": [
             [
              0,
              "#0d0887"
             ],
             [
              0.1111111111111111,
              "#46039f"
             ],
             [
              0.2222222222222222,
              "#7201a8"
             ],
             [
              0.3333333333333333,
              "#9c179e"
             ],
             [
              0.4444444444444444,
              "#bd3786"
             ],
             [
              0.5555555555555556,
              "#d8576b"
             ],
             [
              0.6666666666666666,
              "#ed7953"
             ],
             [
              0.7777777777777778,
              "#fb9f3a"
             ],
             [
              0.8888888888888888,
              "#fdca26"
             ],
             [
              1,
              "#f0f921"
             ]
            ],
            "type": "histogram2d"
           }
          ],
          "histogram2dcontour": [
           {
            "colorbar": {
             "outlinewidth": 0,
             "ticks": ""
            },
            "colorscale": [
             [
              0,
              "#0d0887"
             ],
             [
              0.1111111111111111,
              "#46039f"
             ],
             [
              0.2222222222222222,
              "#7201a8"
             ],
             [
              0.3333333333333333,
              "#9c179e"
             ],
             [
              0.4444444444444444,
              "#bd3786"
             ],
             [
              0.5555555555555556,
              "#d8576b"
             ],
             [
              0.6666666666666666,
              "#ed7953"
             ],
             [
              0.7777777777777778,
              "#fb9f3a"
             ],
             [
              0.8888888888888888,
              "#fdca26"
             ],
             [
              1,
              "#f0f921"
             ]
            ],
            "type": "histogram2dcontour"
           }
          ],
          "mesh3d": [
           {
            "colorbar": {
             "outlinewidth": 0,
             "ticks": ""
            },
            "type": "mesh3d"
           }
          ],
          "parcoords": [
           {
            "line": {
             "colorbar": {
              "outlinewidth": 0,
              "ticks": ""
             }
            },
            "type": "parcoords"
           }
          ],
          "pie": [
           {
            "automargin": true,
            "type": "pie"
           }
          ],
          "scatter": [
           {
            "fillpattern": {
             "fillmode": "overlay",
             "size": 10,
             "solidity": 0.2
            },
            "type": "scatter"
           }
          ],
          "scatter3d": [
           {
            "line": {
             "colorbar": {
              "outlinewidth": 0,
              "ticks": ""
             }
            },
            "marker": {
             "colorbar": {
              "outlinewidth": 0,
              "ticks": ""
             }
            },
            "type": "scatter3d"
           }
          ],
          "scattercarpet": [
           {
            "marker": {
             "colorbar": {
              "outlinewidth": 0,
              "ticks": ""
             }
            },
            "type": "scattercarpet"
           }
          ],
          "scattergeo": [
           {
            "marker": {
             "colorbar": {
              "outlinewidth": 0,
              "ticks": ""
             }
            },
            "type": "scattergeo"
           }
          ],
          "scattergl": [
           {
            "marker": {
             "colorbar": {
              "outlinewidth": 0,
              "ticks": ""
             }
            },
            "type": "scattergl"
           }
          ],
          "scattermap": [
           {
            "marker": {
             "colorbar": {
              "outlinewidth": 0,
              "ticks": ""
             }
            },
            "type": "scattermap"
           }
          ],
          "scattermapbox": [
           {
            "marker": {
             "colorbar": {
              "outlinewidth": 0,
              "ticks": ""
             }
            },
            "type": "scattermapbox"
           }
          ],
          "scatterpolar": [
           {
            "marker": {
             "colorbar": {
              "outlinewidth": 0,
              "ticks": ""
             }
            },
            "type": "scatterpolar"
           }
          ],
          "scatterpolargl": [
           {
            "marker": {
             "colorbar": {
              "outlinewidth": 0,
              "ticks": ""
             }
            },
            "type": "scatterpolargl"
           }
          ],
          "scatterternary": [
           {
            "marker": {
             "colorbar": {
              "outlinewidth": 0,
              "ticks": ""
             }
            },
            "type": "scatterternary"
           }
          ],
          "surface": [
           {
            "colorbar": {
             "outlinewidth": 0,
             "ticks": ""
            },
            "colorscale": [
             [
              0,
              "#0d0887"
             ],
             [
              0.1111111111111111,
              "#46039f"
             ],
             [
              0.2222222222222222,
              "#7201a8"
             ],
             [
              0.3333333333333333,
              "#9c179e"
             ],
             [
              0.4444444444444444,
              "#bd3786"
             ],
             [
              0.5555555555555556,
              "#d8576b"
             ],
             [
              0.6666666666666666,
              "#ed7953"
             ],
             [
              0.7777777777777778,
              "#fb9f3a"
             ],
             [
              0.8888888888888888,
              "#fdca26"
             ],
             [
              1,
              "#f0f921"
             ]
            ],
            "type": "surface"
           }
          ],
          "table": [
           {
            "cells": {
             "fill": {
              "color": "#EBF0F8"
             },
             "line": {
              "color": "white"
             }
            },
            "header": {
             "fill": {
              "color": "#C8D4E3"
             },
             "line": {
              "color": "white"
             }
            },
            "type": "table"
           }
          ]
         },
         "layout": {
          "annotationdefaults": {
           "arrowcolor": "#2a3f5f",
           "arrowhead": 0,
           "arrowwidth": 1
          },
          "autotypenumbers": "strict",
          "coloraxis": {
           "colorbar": {
            "outlinewidth": 0,
            "ticks": ""
           }
          },
          "colorscale": {
           "diverging": [
            [
             0,
             "#8e0152"
            ],
            [
             0.1,
             "#c51b7d"
            ],
            [
             0.2,
             "#de77ae"
            ],
            [
             0.3,
             "#f1b6da"
            ],
            [
             0.4,
             "#fde0ef"
            ],
            [
             0.5,
             "#f7f7f7"
            ],
            [
             0.6,
             "#e6f5d0"
            ],
            [
             0.7,
             "#b8e186"
            ],
            [
             0.8,
             "#7fbc41"
            ],
            [
             0.9,
             "#4d9221"
            ],
            [
             1,
             "#276419"
            ]
           ],
           "sequential": [
            [
             0,
             "#0d0887"
            ],
            [
             0.1111111111111111,
             "#46039f"
            ],
            [
             0.2222222222222222,
             "#7201a8"
            ],
            [
             0.3333333333333333,
             "#9c179e"
            ],
            [
             0.4444444444444444,
             "#bd3786"
            ],
            [
             0.5555555555555556,
             "#d8576b"
            ],
            [
             0.6666666666666666,
             "#ed7953"
            ],
            [
             0.7777777777777778,
             "#fb9f3a"
            ],
            [
             0.8888888888888888,
             "#fdca26"
            ],
            [
             1,
             "#f0f921"
            ]
           ],
           "sequentialminus": [
            [
             0,
             "#0d0887"
            ],
            [
             0.1111111111111111,
             "#46039f"
            ],
            [
             0.2222222222222222,
             "#7201a8"
            ],
            [
             0.3333333333333333,
             "#9c179e"
            ],
            [
             0.4444444444444444,
             "#bd3786"
            ],
            [
             0.5555555555555556,
             "#d8576b"
            ],
            [
             0.6666666666666666,
             "#ed7953"
            ],
            [
             0.7777777777777778,
             "#fb9f3a"
            ],
            [
             0.8888888888888888,
             "#fdca26"
            ],
            [
             1,
             "#f0f921"
            ]
           ]
          },
          "colorway": [
           "#636efa",
           "#EF553B",
           "#00cc96",
           "#ab63fa",
           "#FFA15A",
           "#19d3f3",
           "#FF6692",
           "#B6E880",
           "#FF97FF",
           "#FECB52"
          ],
          "font": {
           "color": "#2a3f5f"
          },
          "geo": {
           "bgcolor": "white",
           "lakecolor": "white",
           "landcolor": "#E5ECF6",
           "showlakes": true,
           "showland": true,
           "subunitcolor": "white"
          },
          "hoverlabel": {
           "align": "left"
          },
          "hovermode": "closest",
          "mapbox": {
           "style": "light"
          },
          "paper_bgcolor": "white",
          "plot_bgcolor": "#E5ECF6",
          "polar": {
           "angularaxis": {
            "gridcolor": "white",
            "linecolor": "white",
            "ticks": ""
           },
           "bgcolor": "#E5ECF6",
           "radialaxis": {
            "gridcolor": "white",
            "linecolor": "white",
            "ticks": ""
           }
          },
          "scene": {
           "xaxis": {
            "backgroundcolor": "#E5ECF6",
            "gridcolor": "white",
            "gridwidth": 2,
            "linecolor": "white",
            "showbackground": true,
            "ticks": "",
            "zerolinecolor": "white"
           },
           "yaxis": {
            "backgroundcolor": "#E5ECF6",
            "gridcolor": "white",
            "gridwidth": 2,
            "linecolor": "white",
            "showbackground": true,
            "ticks": "",
            "zerolinecolor": "white"
           },
           "zaxis": {
            "backgroundcolor": "#E5ECF6",
            "gridcolor": "white",
            "gridwidth": 2,
            "linecolor": "white",
            "showbackground": true,
            "ticks": "",
            "zerolinecolor": "white"
           }
          },
          "shapedefaults": {
           "line": {
            "color": "#2a3f5f"
           }
          },
          "ternary": {
           "aaxis": {
            "gridcolor": "white",
            "linecolor": "white",
            "ticks": ""
           },
           "baxis": {
            "gridcolor": "white",
            "linecolor": "white",
            "ticks": ""
           },
           "bgcolor": "#E5ECF6",
           "caxis": {
            "gridcolor": "white",
            "linecolor": "white",
            "ticks": ""
           }
          },
          "title": {
           "x": 0.05
          },
          "xaxis": {
           "automargin": true,
           "gridcolor": "white",
           "linecolor": "white",
           "ticks": "",
           "title": {
            "standoff": 15
           },
           "zerolinecolor": "white",
           "zerolinewidth": 2
          },
          "yaxis": {
           "automargin": true,
           "gridcolor": "white",
           "linecolor": "white",
           "ticks": "",
           "title": {
            "standoff": 15
           },
           "zerolinecolor": "white",
           "zerolinewidth": 2
          }
         }
        },
        "title": {
         "text": "Distribuição de Preços"
        },
        "xaxis": {
         "anchor": "y",
         "domain": [
          0,
          1
         ],
         "title": {
          "text": "Preço"
         }
        },
        "yaxis": {
         "anchor": "x",
         "domain": [
          0,
          1
         ],
         "title": {
          "text": "count"
         }
        }
       }
      }
     },
     "metadata": {},
     "output_type": "display_data"
    },
    {
     "data": {
      "application/vnd.plotly.v1+json": {
       "config": {
        "plotlyServerURL": "https://plot.ly"
       },
       "data": [
        {
         "hovertemplate": "Categoria=%{x}<br>Quantidade=%{y}<extra></extra>",
         "legendgroup": "",
         "marker": {
          "color": "#636efa",
          "pattern": {
           "shape": ""
          }
         },
         "name": "",
         "orientation": "v",
         "showlegend": false,
         "textposition": "auto",
         "type": "bar",
         "x": [
          "Sandálias",
          "Moda Infantil",
          "Sandálias e Chinelos",
          "Calçados de Menino",
          "Chinelos",
          "Calçados de Menina",
          "Sapatos Femininos",
          "Sapatos Masculinos",
          "Sapatos Masculinos ",
          "Sapatos Femininos "
         ],
         "xaxis": "x",
         "y": {
          "bdata": "KAEWAcoAlwCUAHAAWAA6AB4AGQA=",
          "dtype": "i2"
         },
         "yaxis": "y"
        }
       ],
       "layout": {
        "barmode": "relative",
        "legend": {
         "tracegroupgap": 0
        },
        "template": {
         "data": {
          "bar": [
           {
            "error_x": {
             "color": "#2a3f5f"
            },
            "error_y": {
             "color": "#2a3f5f"
            },
            "marker": {
             "line": {
              "color": "#E5ECF6",
              "width": 0.5
             },
             "pattern": {
              "fillmode": "overlay",
              "size": 10,
              "solidity": 0.2
             }
            },
            "type": "bar"
           }
          ],
          "barpolar": [
           {
            "marker": {
             "line": {
              "color": "#E5ECF6",
              "width": 0.5
             },
             "pattern": {
              "fillmode": "overlay",
              "size": 10,
              "solidity": 0.2
             }
            },
            "type": "barpolar"
           }
          ],
          "carpet": [
           {
            "aaxis": {
             "endlinecolor": "#2a3f5f",
             "gridcolor": "white",
             "linecolor": "white",
             "minorgridcolor": "white",
             "startlinecolor": "#2a3f5f"
            },
            "baxis": {
             "endlinecolor": "#2a3f5f",
             "gridcolor": "white",
             "linecolor": "white",
             "minorgridcolor": "white",
             "startlinecolor": "#2a3f5f"
            },
            "type": "carpet"
           }
          ],
          "choropleth": [
           {
            "colorbar": {
             "outlinewidth": 0,
             "ticks": ""
            },
            "type": "choropleth"
           }
          ],
          "contour": [
           {
            "colorbar": {
             "outlinewidth": 0,
             "ticks": ""
            },
            "colorscale": [
             [
              0,
              "#0d0887"
             ],
             [
              0.1111111111111111,
              "#46039f"
             ],
             [
              0.2222222222222222,
              "#7201a8"
             ],
             [
              0.3333333333333333,
              "#9c179e"
             ],
             [
              0.4444444444444444,
              "#bd3786"
             ],
             [
              0.5555555555555556,
              "#d8576b"
             ],
             [
              0.6666666666666666,
              "#ed7953"
             ],
             [
              0.7777777777777778,
              "#fb9f3a"
             ],
             [
              0.8888888888888888,
              "#fdca26"
             ],
             [
              1,
              "#f0f921"
             ]
            ],
            "type": "contour"
           }
          ],
          "contourcarpet": [
           {
            "colorbar": {
             "outlinewidth": 0,
             "ticks": ""
            },
            "type": "contourcarpet"
           }
          ],
          "heatmap": [
           {
            "colorbar": {
             "outlinewidth": 0,
             "ticks": ""
            },
            "colorscale": [
             [
              0,
              "#0d0887"
             ],
             [
              0.1111111111111111,
              "#46039f"
             ],
             [
              0.2222222222222222,
              "#7201a8"
             ],
             [
              0.3333333333333333,
              "#9c179e"
             ],
             [
              0.4444444444444444,
              "#bd3786"
             ],
             [
              0.5555555555555556,
              "#d8576b"
             ],
             [
              0.6666666666666666,
              "#ed7953"
             ],
             [
              0.7777777777777778,
              "#fb9f3a"
             ],
             [
              0.8888888888888888,
              "#fdca26"
             ],
             [
              1,
              "#f0f921"
             ]
            ],
            "type": "heatmap"
           }
          ],
          "histogram": [
           {
            "marker": {
             "pattern": {
              "fillmode": "overlay",
              "size": 10,
              "solidity": 0.2
             }
            },
            "type": "histogram"
           }
          ],
          "histogram2d": [
           {
            "colorbar": {
             "outlinewidth": 0,
             "ticks": ""
            },
            "colorscale": [
             [
              0,
              "#0d0887"
             ],
             [
              0.1111111111111111,
              "#46039f"
             ],
             [
              0.2222222222222222,
              "#7201a8"
             ],
             [
              0.3333333333333333,
              "#9c179e"
             ],
             [
              0.4444444444444444,
              "#bd3786"
             ],
             [
              0.5555555555555556,
              "#d8576b"
             ],
             [
              0.6666666666666666,
              "#ed7953"
             ],
             [
              0.7777777777777778,
              "#fb9f3a"
             ],
             [
              0.8888888888888888,
              "#fdca26"
             ],
             [
              1,
              "#f0f921"
             ]
            ],
            "type": "histogram2d"
           }
          ],
          "histogram2dcontour": [
           {
            "colorbar": {
             "outlinewidth": 0,
             "ticks": ""
            },
            "colorscale": [
             [
              0,
              "#0d0887"
             ],
             [
              0.1111111111111111,
              "#46039f"
             ],
             [
              0.2222222222222222,
              "#7201a8"
             ],
             [
              0.3333333333333333,
              "#9c179e"
             ],
             [
              0.4444444444444444,
              "#bd3786"
             ],
             [
              0.5555555555555556,
              "#d8576b"
             ],
             [
              0.6666666666666666,
              "#ed7953"
             ],
             [
              0.7777777777777778,
              "#fb9f3a"
             ],
             [
              0.8888888888888888,
              "#fdca26"
             ],
             [
              1,
              "#f0f921"
             ]
            ],
            "type": "histogram2dcontour"
           }
          ],
          "mesh3d": [
           {
            "colorbar": {
             "outlinewidth": 0,
             "ticks": ""
            },
            "type": "mesh3d"
           }
          ],
          "parcoords": [
           {
            "line": {
             "colorbar": {
              "outlinewidth": 0,
              "ticks": ""
             }
            },
            "type": "parcoords"
           }
          ],
          "pie": [
           {
            "automargin": true,
            "type": "pie"
           }
          ],
          "scatter": [
           {
            "fillpattern": {
             "fillmode": "overlay",
             "size": 10,
             "solidity": 0.2
            },
            "type": "scatter"
           }
          ],
          "scatter3d": [
           {
            "line": {
             "colorbar": {
              "outlinewidth": 0,
              "ticks": ""
             }
            },
            "marker": {
             "colorbar": {
              "outlinewidth": 0,
              "ticks": ""
             }
            },
            "type": "scatter3d"
           }
          ],
          "scattercarpet": [
           {
            "marker": {
             "colorbar": {
              "outlinewidth": 0,
              "ticks": ""
             }
            },
            "type": "scattercarpet"
           }
          ],
          "scattergeo": [
           {
            "marker": {
             "colorbar": {
              "outlinewidth": 0,
              "ticks": ""
             }
            },
            "type": "scattergeo"
           }
          ],
          "scattergl": [
           {
            "marker": {
             "colorbar": {
              "outlinewidth": 0,
              "ticks": ""
             }
            },
            "type": "scattergl"
           }
          ],
          "scattermap": [
           {
            "marker": {
             "colorbar": {
              "outlinewidth": 0,
              "ticks": ""
             }
            },
            "type": "scattermap"
           }
          ],
          "scattermapbox": [
           {
            "marker": {
             "colorbar": {
              "outlinewidth": 0,
              "ticks": ""
             }
            },
            "type": "scattermapbox"
           }
          ],
          "scatterpolar": [
           {
            "marker": {
             "colorbar": {
              "outlinewidth": 0,
              "ticks": ""
             }
            },
            "type": "scatterpolar"
           }
          ],
          "scatterpolargl": [
           {
            "marker": {
             "colorbar": {
              "outlinewidth": 0,
              "ticks": ""
             }
            },
            "type": "scatterpolargl"
           }
          ],
          "scatterternary": [
           {
            "marker": {
             "colorbar": {
              "outlinewidth": 0,
              "ticks": ""
             }
            },
            "type": "scatterternary"
           }
          ],
          "surface": [
           {
            "colorbar": {
             "outlinewidth": 0,
             "ticks": ""
            },
            "colorscale": [
             [
              0,
              "#0d0887"
             ],
             [
              0.1111111111111111,
              "#46039f"
             ],
             [
              0.2222222222222222,
              "#7201a8"
             ],
             [
              0.3333333333333333,
              "#9c179e"
             ],
             [
              0.4444444444444444,
              "#bd3786"
             ],
             [
              0.5555555555555556,
              "#d8576b"
             ],
             [
              0.6666666666666666,
              "#ed7953"
             ],
             [
              0.7777777777777778,
              "#fb9f3a"
             ],
             [
              0.8888888888888888,
              "#fdca26"
             ],
             [
              1,
              "#f0f921"
             ]
            ],
            "type": "surface"
           }
          ],
          "table": [
           {
            "cells": {
             "fill": {
              "color": "#EBF0F8"
             },
             "line": {
              "color": "white"
             }
            },
            "header": {
             "fill": {
              "color": "#C8D4E3"
             },
             "line": {
              "color": "white"
             }
            },
            "type": "table"
           }
          ]
         },
         "layout": {
          "annotationdefaults": {
           "arrowcolor": "#2a3f5f",
           "arrowhead": 0,
           "arrowwidth": 1
          },
          "autotypenumbers": "strict",
          "coloraxis": {
           "colorbar": {
            "outlinewidth": 0,
            "ticks": ""
           }
          },
          "colorscale": {
           "diverging": [
            [
             0,
             "#8e0152"
            ],
            [
             0.1,
             "#c51b7d"
            ],
            [
             0.2,
             "#de77ae"
            ],
            [
             0.3,
             "#f1b6da"
            ],
            [
             0.4,
             "#fde0ef"
            ],
            [
             0.5,
             "#f7f7f7"
            ],
            [
             0.6,
             "#e6f5d0"
            ],
            [
             0.7,
             "#b8e186"
            ],
            [
             0.8,
             "#7fbc41"
            ],
            [
             0.9,
             "#4d9221"
            ],
            [
             1,
             "#276419"
            ]
           ],
           "sequential": [
            [
             0,
             "#0d0887"
            ],
            [
             0.1111111111111111,
             "#46039f"
            ],
            [
             0.2222222222222222,
             "#7201a8"
            ],
            [
             0.3333333333333333,
             "#9c179e"
            ],
            [
             0.4444444444444444,
             "#bd3786"
            ],
            [
             0.5555555555555556,
             "#d8576b"
            ],
            [
             0.6666666666666666,
             "#ed7953"
            ],
            [
             0.7777777777777778,
             "#fb9f3a"
            ],
            [
             0.8888888888888888,
             "#fdca26"
            ],
            [
             1,
             "#f0f921"
            ]
           ],
           "sequentialminus": [
            [
             0,
             "#0d0887"
            ],
            [
             0.1111111111111111,
             "#46039f"
            ],
            [
             0.2222222222222222,
             "#7201a8"
            ],
            [
             0.3333333333333333,
             "#9c179e"
            ],
            [
             0.4444444444444444,
             "#bd3786"
            ],
            [
             0.5555555555555556,
             "#d8576b"
            ],
            [
             0.6666666666666666,
             "#ed7953"
            ],
            [
             0.7777777777777778,
             "#fb9f3a"
            ],
            [
             0.8888888888888888,
             "#fdca26"
            ],
            [
             1,
             "#f0f921"
            ]
           ]
          },
          "colorway": [
           "#636efa",
           "#EF553B",
           "#00cc96",
           "#ab63fa",
           "#FFA15A",
           "#19d3f3",
           "#FF6692",
           "#B6E880",
           "#FF97FF",
           "#FECB52"
          ],
          "font": {
           "color": "#2a3f5f"
          },
          "geo": {
           "bgcolor": "white",
           "lakecolor": "white",
           "landcolor": "#E5ECF6",
           "showlakes": true,
           "showland": true,
           "subunitcolor": "white"
          },
          "hoverlabel": {
           "align": "left"
          },
          "hovermode": "closest",
          "mapbox": {
           "style": "light"
          },
          "paper_bgcolor": "white",
          "plot_bgcolor": "#E5ECF6",
          "polar": {
           "angularaxis": {
            "gridcolor": "white",
            "linecolor": "white",
            "ticks": ""
           },
           "bgcolor": "#E5ECF6",
           "radialaxis": {
            "gridcolor": "white",
            "linecolor": "white",
            "ticks": ""
           }
          },
          "scene": {
           "xaxis": {
            "backgroundcolor": "#E5ECF6",
            "gridcolor": "white",
            "gridwidth": 2,
            "linecolor": "white",
            "showbackground": true,
            "ticks": "",
            "zerolinecolor": "white"
           },
           "yaxis": {
            "backgroundcolor": "#E5ECF6",
            "gridcolor": "white",
            "gridwidth": 2,
            "linecolor": "white",
            "showbackground": true,
            "ticks": "",
            "zerolinecolor": "white"
           },
           "zaxis": {
            "backgroundcolor": "#E5ECF6",
            "gridcolor": "white",
            "gridwidth": 2,
            "linecolor": "white",
            "showbackground": true,
            "ticks": "",
            "zerolinecolor": "white"
           }
          },
          "shapedefaults": {
           "line": {
            "color": "#2a3f5f"
           }
          },
          "ternary": {
           "aaxis": {
            "gridcolor": "white",
            "linecolor": "white",
            "ticks": ""
           },
           "baxis": {
            "gridcolor": "white",
            "linecolor": "white",
            "ticks": ""
           },
           "bgcolor": "#E5ECF6",
           "caxis": {
            "gridcolor": "white",
            "linecolor": "white",
            "ticks": ""
           }
          },
          "title": {
           "x": 0.05
          },
          "xaxis": {
           "automargin": true,
           "gridcolor": "white",
           "linecolor": "white",
           "ticks": "",
           "title": {
            "standoff": 15
           },
           "zerolinecolor": "white",
           "zerolinewidth": 2
          },
          "yaxis": {
           "automargin": true,
           "gridcolor": "white",
           "linecolor": "white",
           "ticks": "",
           "title": {
            "standoff": 15
           },
           "zerolinecolor": "white",
           "zerolinewidth": 2
          }
         }
        },
        "title": {
         "text": "Top 10 Categorias"
        },
        "xaxis": {
         "anchor": "y",
         "domain": [
          0,
          1
         ],
         "title": {
          "text": "Categoria"
         }
        },
        "yaxis": {
         "anchor": "x",
         "domain": [
          0,
          1
         ],
         "title": {
          "text": "Quantidade"
         }
        }
       }
      }
     },
     "metadata": {},
     "output_type": "display_data"
    },
    {
     "data": {
      "application/vnd.plotly.v1+json": {
       "config": {
        "plotlyServerURL": "https://plot.ly"
       },
       "data": [
        {
         "domain": {
          "x": [
           0,
           1
          ],
          "y": [
           0,
           1
          ]
         },
         "hovertemplate": "Gênero=%{label}<extra></extra>",
         "labels": [
          "Unissex",
          "Unissex",
          "Unissex",
          "Unissex",
          "Unissex",
          "Unissex",
          "Unissex",
          "Unissex",
          "Unissex",
          "Unissex",
          "Unissex",
          "Unissex",
          "Unissex",
          "Unissex",
          "Unissex",
          "Unissex",
          "Unissex",
          "Unissex",
          "Unissex",
          "Unissex",
          "Unissex",
          "Unissex",
          "Unissex",
          "Unissex",
          "Unissex",
          "Unissex",
          "Unissex",
          "Unissex",
          "Unissex",
          "Unissex",
          "Unissex",
          "Unissex",
          "Unissex",
          "Unissex",
          "Unissex",
          "Unissex",
          "Unissex",
          "Unissex",
          "Unissex",
          "Unissex",
          "Unissex",
          "Unissex",
          "Unissex",
          "Unissex",
          "Unissex",
          "Unissex",
          "Unissex",
          "Unissex",
          "Unissex",
          "Unissex",
          "Unissex",
          "Unissex",
          "Unissex",
          "Unissex",
          "Unissex",
          "Unissex",
          "Unissex",
          "Unissex",
          "Unissex",
          "Unissex",
          "Unissex",
          "Unissex",
          "Unissex",
          "Unissex",
          "Unissex",
          "Unissex",
          "Unissex",
          "Unissex",
          "Unissex",
          "Unissex",
          "Unissex",
          "Unissex",
          "Unissex",
          "Unissex",
          "Unissex",
          "Unissex",
          "Unissex",
          "Unissex",
          "Unissex",
          "Unissex",
          "Unissex",
          "Unissex",
          "Unissex",
          "Unissex",
          "Unissex",
          "Unissex",
          "Unissex",
          "Unissex",
          "Unissex",
          "Unissex",
          "Unissex",
          "Unissex",
          "Unissex",
          "Unissex",
          "Unissex",
          "Unissex",
          "Unissex",
          "Unissex",
          "Unissex",
          "Unissex",
          "Unissex",
          "Unissex",
          "Unissex",
          "Unissex",
          "Unissex",
          "Unissex",
          "Unissex",
          "Unissex",
          "Unissex",
          "Unissex",
          "Unissex",
          "Unissex",
          "Unissex",
          "Unissex",
          "Unissex",
          "Unissex",
          "Unissex",
          "Unissex",
          "Unissex",
          "Unissex",
          "Unissex",
          "Unissex",
          "Unissex",
          "Unissex",
          "Unissex",
          "Unissex",
          "Unissex",
          "Unissex",
          "Unissex",
          "Unissex",
          "Unissex",
          "Unissex",
          "Unissex",
          "Unissex",
          "Unissex",
          "Unissex",
          "Unissex",
          "Unissex",
          "Unissex",
          "Unissex",
          "Unissex",
          "Unissex",
          "Unissex",
          "Unissex",
          "Unissex",
          "Unissex",
          "Unissex",
          "Unissex",
          "Unissex",
          "Unissex",
          "Unissex",
          "Unissex",
          "Unissex",
          "Unissex",
          "Unissex",
          "Unissex",
          "Unissex",
          "Unissex",
          "Unissex",
          "Unissex",
          "Unissex",
          "Unissex",
          "Unissex",
          "Unissex",
          "Unissex",
          "Unissex",
          "Unissex",
          "Unissex",
          "Unissex",
          "Unissex",
          "Unissex",
          "Unissex",
          "Unissex",
          "Unissex",
          "Unissex",
          "Unissex",
          "Unissex",
          "Unissex",
          "Unissex",
          "Unissex",
          "Unissex",
          "Unissex",
          "Unissex",
          "Unissex",
          "Unissex",
          "Unissex",
          "Unissex",
          "Unissex",
          "Unissex",
          "Unissex",
          "Unissex",
          "Unissex",
          "Unissex",
          "Unissex",
          "Unissex",
          "Unissex",
          "Unissex",
          "Unissex",
          "Unissex",
          "Unissex",
          "Unissex",
          "Unissex",
          "Unissex",
          "Unissex",
          "Unissex",
          "Unissex",
          "Unissex",
          "Unissex",
          "Unissex",
          "Unissex",
          "Unissex",
          "Unissex",
          "Unissex",
          "Unissex",
          "Unissex",
          "Unissex",
          "Unissex",
          "Unissex",
          "Unissex",
          "Unissex",
          "Unissex",
          "Unissex",
          "Unissex",
          "Unissex",
          "Unissex",
          "Unissex",
          "Unissex",
          "Unissex",
          "Unissex",
          "Unissex",
          "Unissex",
          "Unissex",
          "Unissex",
          "Unissex",
          "Unissex",
          "Unissex",
          "Unissex",
          "Unissex",
          "Unissex",
          "Unissex",
          "Unissex",
          "Unissex",
          "Unissex",
          "Unissex",
          "Unissex",
          "Unissex",
          "Unissex",
          "Unissex",
          "Unissex",
          "Unissex",
          "Unissex",
          "Unissex",
          "Unissex",
          "Unissex",
          "Unissex",
          "Unissex",
          "Unissex",
          "Unissex",
          "Unissex",
          "Unissex",
          "Unissex",
          "Unissex",
          "Unissex",
          "Unissex",
          "Unissex",
          "Unissex",
          "Unissex",
          "Unissex",
          "Unissex",
          "Unissex",
          "Feminino",
          "Feminino",
          "Feminino",
          "Feminino",
          "Feminino",
          "Feminino",
          "Feminino",
          "Feminino",
          "Feminino",
          "Feminino",
          "Feminino",
          "Feminino",
          "Feminino",
          "Feminino",
          "Feminino",
          "Feminino",
          "Feminino",
          "Feminino",
          "Feminino",
          "Feminino",
          "Feminino",
          "Feminino",
          "Feminino",
          "Feminino",
          "Feminino",
          "Feminino",
          "Feminino",
          "Feminino",
          "Feminino",
          "Feminino",
          "Feminino",
          "Feminino",
          "Feminino",
          "Feminino",
          "Feminino",
          "Feminino",
          "Feminino",
          "Feminino",
          "Feminino",
          "Feminino",
          "Feminino",
          "Feminino",
          "Feminino",
          "Feminino",
          "Feminino",
          "Feminino",
          "Feminino",
          "Feminino",
          "Feminino",
          "Feminino",
          "Feminino",
          "Feminino",
          "Feminino",
          "Feminino",
          "Feminino",
          "Feminino",
          "Feminino",
          "Feminino",
          "Feminino",
          "Feminino",
          "Feminino",
          "Feminino",
          "Feminino",
          "Feminino",
          "Feminino",
          "Feminino",
          "Feminino",
          "Feminino",
          "Feminino",
          "Feminino",
          "Feminino",
          "Feminino",
          "Masculino",
          "Masculino",
          "Masculino",
          "Masculino",
          "Masculino",
          "Masculino",
          "Masculino",
          "Masculino",
          "Masculino",
          "Masculino",
          "Masculino",
          "Masculino",
          "Masculino",
          "Masculino",
          "Masculino",
          "Masculino",
          "Masculino",
          "Masculino",
          "Masculino",
          "Masculino",
          "Masculino",
          "Masculino",
          "Masculino",
          "Masculino",
          "Masculino",
          "Masculino",
          "Masculino",
          "Masculino",
          "Masculino",
          "Masculino",
          "Masculino",
          "Masculino",
          "Masculino",
          "Masculino",
          "Masculino",
          "Masculino",
          "Masculino",
          "Masculino",
          "Masculino",
          "Masculino",
          "Masculino",
          "Masculino",
          "Masculino",
          "Masculino",
          "Masculino",
          "Masculino",
          "Masculino",
          "Masculino",
          "Masculino",
          "Masculino",
          "Masculino",
          "Masculino",
          "Masculino",
          "Masculino",
          "Masculino",
          "Masculino",
          "Masculino",
          "Masculino",
          "Masculino",
          "Masculino",
          "Masculino",
          "Masculino",
          "Masculino",
          "Masculino",
          "Masculino",
          "Masculino",
          "Masculino",
          "Masculino",
          "Masculino",
          "Masculino",
          "Masculino",
          "Masculino",
          "Masculino",
          "Masculino",
          "Masculino",
          "Masculino",
          "Masculino",
          "Masculino",
          "Masculino",
          "Masculino",
          "Masculino",
          "Masculino",
          "Masculino",
          "Masculino",
          "Masculino",
          "Masculino",
          "Masculino",
          "Masculino",
          "Masculino",
          "Masculino",
          "Masculino",
          "Masculino",
          "Masculino",
          "Masculino",
          "Masculino",
          "Masculino",
          "Unissex",
          "Unissex",
          "Unissex",
          "Unissex",
          "Unissex",
          "Unissex",
          "Unissex",
          "Unissex",
          "Unissex",
          "Unissex",
          "Unissex",
          "Unissex",
          "Unissex",
          "Unissex",
          "Unissex",
          "Unissex",
          "Unissex",
          "Unissex",
          "Unissex",
          "Unissex",
          "Unissex",
          "Unissex",
          "Unissex",
          "Unissex",
          "Unissex",
          "Unissex",
          "Unissex",
          "Unissex",
          "Unissex",
          "Unissex",
          "Unissex",
          "Unissex",
          "Unissex",
          "Unissex",
          "Unissex",
          "Unissex",
          "Unissex",
          "Unissex",
          "Unissex",
          "Unissex",
          "Unissex",
          "Unissex",
          "Unissex",
          "Unissex",
          "Unissex",
          "Unissex",
          "Unissex",
          "Unissex",
          "Unissex",
          "Unissex",
          "Unissex",
          "Unissex",
          "Unissex",
          "Unissex",
          "Unissex",
          "Unissex",
          "Unissex",
          "Unissex",
          "Unissex",
          "Unissex",
          "Feminino",
          "Feminino",
          "Feminino",
          "Feminino",
          "Feminino",
          "Feminino",
          "Feminino",
          "Feminino",
          "Feminino",
          "Feminino",
          "Feminino",
          "Feminino",
          "Feminino",
          "Feminino",
          "Feminino",
          "Feminino",
          "Feminino",
          "Feminino",
          "Feminino",
          "Feminino",
          "Feminino",
          "Feminino",
          "Feminino",
          "Feminino",
          "Feminino",
          "Feminino",
          "Feminino",
          "Feminino",
          "Feminino",
          "Feminino",
          "Feminino",
          "Feminino",
          "Feminino",
          "Feminino",
          "Feminino",
          "Feminino",
          "Feminino",
          "Feminino",
          "Feminino",
          "Feminino",
          "Feminino",
          "Feminino",
          "Feminino",
          "Feminino",
          "Feminino",
          "Feminino",
          "Feminino",
          "Feminino",
          "Feminino",
          "Feminino",
          "Feminino",
          "Feminino",
          "Feminino",
          "Feminino",
          "Feminino",
          "Feminino",
          "Feminino",
          "Feminino",
          "Feminino",
          "Feminino",
          "Feminino",
          "Feminino",
          "Feminino",
          "Feminino",
          "Feminino",
          "Feminino",
          "Feminino",
          "Feminino",
          "Feminino",
          "Feminino",
          "Feminino",
          "Feminino",
          "Feminino",
          "Feminino",
          "Feminino",
          "Feminino",
          "Feminino",
          "Masculino",
          "Masculino",
          "Masculino",
          "Masculino",
          "Masculino",
          "Masculino",
          "Masculino",
          "Masculino",
          "Masculino",
          "Masculino",
          "Masculino",
          "Masculino",
          "Unissex",
          "Unissex",
          "Unissex",
          "Unissex",
          "Unissex",
          "Unissex",
          "Unissex",
          "Unissex",
          "Unissex",
          "Unissex",
          "Unissex",
          "Unissex",
          "Unissex",
          "Unissex",
          "Unissex",
          "Unissex",
          "Unissex",
          "Unissex",
          "Feminino",
          "Feminino",
          "Feminino",
          "Feminino",
          "Feminino",
          "Feminino",
          "Feminino",
          "Feminino",
          "Feminino",
          "Feminino",
          "Feminino",
          "Feminino",
          "Feminino",
          "Feminino",
          "Feminino",
          "Feminino",
          "Feminino",
          "Feminino",
          "Unissex",
          "Unissex",
          "Unissex",
          "Unissex",
          "Unissex",
          "Unissex",
          "Unissex",
          "Unissex",
          "Unissex",
          "Unissex",
          "Unissex",
          "Unissex",
          "Unissex",
          "Unissex",
          "Unissex",
          "Unissex",
          "Unissex",
          "Unissex",
          "Unissex",
          "Unissex",
          "Unissex",
          "Unissex",
          "Unissex",
          "Unissex",
          "Unissex",
          "Unissex",
          "Unissex",
          "Unissex",
          "Unissex",
          "Unissex",
          "Unissex",
          "Unissex",
          "Unissex",
          "Unissex",
          "Unissex",
          "Unissex",
          "Unissex",
          "Unissex",
          "Unissex",
          "Unissex",
          "Unissex",
          "Unissex",
          "Unissex",
          "Unissex",
          "Unissex",
          "Unissex",
          "Unissex",
          "Unissex",
          "Unissex",
          "Unissex",
          "Unissex",
          "Unissex",
          "Unissex",
          "Unissex",
          "Unissex",
          "Unissex",
          "Unissex",
          "Unissex",
          "Unissex",
          "Unissex",
          "Unissex",
          "Unissex",
          "Unissex",
          "Unissex",
          "Unissex",
          "Unissex",
          "Unissex",
          "Unissex",
          "Unissex",
          "Unissex",
          "Unissex",
          "Unissex",
          "Unissex",
          "Unissex",
          "Unissex",
          "Feminino",
          "Feminino",
          "Feminino",
          "Feminino",
          "Feminino",
          "Feminino",
          "Feminino",
          "Feminino",
          "Feminino",
          "Feminino",
          "Feminino",
          "Feminino",
          "Feminino",
          "Feminino",
          "Feminino",
          "Feminino",
          "Feminino",
          "Feminino",
          "Feminino",
          "Feminino",
          "Feminino",
          "Feminino",
          "Feminino",
          "Feminino",
          "Feminino",
          "Feminino",
          "Feminino",
          "Feminino",
          "Feminino",
          "Feminino",
          "Feminino",
          "Feminino",
          "Feminino",
          "Feminino",
          "Feminino",
          "Feminino",
          "Feminino",
          "Feminino",
          "Feminino",
          "Feminino",
          "Feminino",
          "Feminino",
          "Feminino",
          "Feminino",
          "Feminino",
          "Feminino",
          "Feminino",
          "Feminino",
          "Feminino",
          "Feminino",
          "Feminino",
          "Feminino",
          "Feminino",
          "Feminino",
          "Feminino",
          "Feminino",
          "Feminino",
          "Feminino",
          "Feminino",
          "Feminino",
          "Feminino",
          "Feminino",
          "Feminino",
          "Feminino",
          "Feminino",
          "Feminino",
          "Feminino",
          "Feminino",
          "Feminino",
          "Feminino",
          "Feminino",
          "Feminino",
          "Feminino",
          "Feminino",
          "Feminino",
          "Feminino",
          "Feminino",
          "Feminino",
          "Feminino",
          "Feminino",
          "Feminino",
          "Feminino",
          "Feminino",
          "Feminino",
          "Masculino",
          "Masculino",
          "Masculino",
          "Masculino",
          "Masculino",
          "Masculino",
          "Masculino",
          "Masculino",
          "Masculino",
          "Masculino",
          "Masculino",
          "Masculino",
          "Masculino",
          "Masculino",
          "Masculino",
          "Masculino",
          "Masculino",
          "Masculino",
          "Masculino",
          "Masculino",
          "Masculino",
          "Masculino",
          "Masculino",
          "Masculino",
          "Masculino",
          "Masculino",
          "Masculino",
          "Masculino",
          "Masculino",
          "Masculino",
          "Masculino",
          "Masculino",
          "Masculino",
          "Masculino",
          "Masculino",
          "Masculino",
          "Masculino",
          "Masculino",
          "Masculino",
          "Masculino",
          "Masculino",
          "Masculino",
          "Masculino",
          "Masculino",
          "Masculino",
          "Masculino",
          "Masculino",
          "Masculino",
          "Masculino",
          "Masculino",
          "Masculino",
          "Masculino",
          "Masculino",
          "Masculino",
          "Masculino",
          "Masculino",
          "Masculino",
          "Masculino",
          "Masculino",
          "Masculino",
          "Masculino",
          "Masculino",
          "Masculino",
          "Masculino",
          "Masculino",
          "Masculino",
          "Masculino",
          "Masculino",
          "Masculino",
          "Masculino",
          "Masculino",
          "Masculino",
          "Masculino",
          "Masculino",
          "Masculino",
          "Masculino",
          "Masculino",
          "Masculino",
          "Masculino",
          "Masculino",
          "Masculino",
          "Masculino",
          "Masculino",
          "Masculino",
          "Masculino",
          "Masculino",
          "Masculino",
          "Masculino",
          "Masculino",
          "Masculino",
          "Masculino",
          "Masculino",
          "Masculino",
          "Masculino",
          "Masculino",
          "Masculino",
          "Masculino",
          "Masculino",
          "Masculino",
          "Masculino",
          "Masculino",
          "Masculino",
          "Masculino",
          "Masculino",
          "Masculino",
          "Masculino",
          "Masculino",
          "Masculino",
          "Masculino",
          "Masculino",
          "Masculino",
          "Masculino",
          "Masculino",
          "Masculino",
          "Masculino",
          "Masculino",
          "Masculino",
          "Masculino",
          "Masculino",
          "Masculino",
          "Masculino",
          "Masculino",
          "Masculino",
          "Masculino",
          "Masculino",
          "Masculino",
          "Masculino",
          "Masculino",
          "Masculino",
          "Masculino",
          "Masculino",
          "Masculino",
          "Masculino",
          "Masculino",
          "Masculino",
          "Masculino",
          "Masculino",
          "Masculino",
          "Masculino",
          "Masculino",
          "Masculino",
          "Masculino",
          "Masculino",
          "Masculino",
          "Masculino",
          "Masculino",
          "Masculino",
          "Masculino",
          "Masculino",
          "Masculino",
          "Masculino",
          "Masculino",
          "Masculino",
          "Masculino",
          "Masculino",
          "Masculino",
          "Masculino",
          "Masculino",
          "Masculino",
          "Masculino",
          "Masculino",
          "Masculino",
          "Masculino",
          "Masculino",
          "Masculino",
          "Masculino",
          "Masculino",
          "Masculino",
          "Masculino",
          "Masculino",
          "Masculino",
          "Masculino",
          "Masculino",
          "Masculino",
          "Masculino",
          "Masculino",
          "Masculino",
          "Masculino",
          "Masculino",
          "Masculino",
          "Masculino",
          "Masculino",
          "Masculino",
          "Masculino",
          "Masculino",
          "Masculino",
          "Masculino",
          "Masculino",
          "Masculino",
          "Masculino",
          "Masculino",
          "Masculino",
          "Masculino",
          "Masculino",
          "Masculino",
          "Masculino",
          "Masculino",
          "Masculino",
          "Masculino",
          "Masculino",
          "Masculino",
          "Masculino",
          "Masculino",
          "Masculino",
          "Masculino",
          "Masculino",
          "Masculino",
          "Masculino",
          "Masculino",
          "Masculino",
          "Feminino",
          "Feminino",
          "Feminino",
          "Feminino",
          "Feminino",
          "Feminino",
          "Feminino",
          "Feminino",
          "Feminino",
          "Feminino",
          "Feminino",
          "Feminino",
          "Feminino",
          "Feminino",
          "Feminino",
          "Feminino",
          "Feminino",
          "Feminino",
          "Feminino",
          "Feminino",
          "Feminino",
          "Feminino",
          "Feminino",
          "Feminino",
          "Feminino",
          "Feminino",
          "Feminino",
          "Feminino",
          "Feminino",
          "Feminino",
          "Feminino",
          "Feminino",
          "Feminino",
          "Feminino",
          "Feminino",
          "Feminino",
          "Feminino",
          "Feminino",
          "Feminino",
          "Feminino",
          "Feminino",
          "Feminino",
          "Feminino",
          "Feminino",
          "Feminino",
          "Feminino",
          "Feminino",
          "Feminino",
          "Feminino",
          "Feminino",
          "Feminino",
          "Feminino",
          "Feminino",
          "Feminino",
          "Feminino",
          "Feminino",
          "Feminino",
          "Feminino",
          "Feminino",
          "Feminino",
          "Feminino",
          "Feminino",
          "Feminino",
          "Feminino",
          "Feminino",
          "Feminino",
          "Feminino",
          "Feminino",
          "Feminino",
          "Feminino",
          "Feminino",
          "Feminino",
          "Feminino",
          "Feminino",
          "Feminino",
          "Feminino",
          "Feminino",
          "Feminino",
          "Feminino",
          "Feminino",
          "Feminino",
          "Feminino",
          "Feminino",
          "Feminino",
          "Feminino",
          "Feminino",
          "Feminino",
          "Feminino",
          "Feminino",
          "Feminino",
          "Feminino",
          "Feminino",
          "Feminino",
          "Feminino",
          "Feminino",
          "Feminino",
          "Feminino",
          "Feminino",
          "Feminino",
          "Feminino",
          "Feminino",
          "Feminino",
          "Feminino",
          "Feminino",
          "Feminino",
          "Feminino",
          "Feminino",
          "Feminino",
          "Feminino",
          "Feminino",
          "Feminino",
          "Feminino",
          "Feminino",
          "Feminino",
          "Feminino",
          "Feminino",
          "Feminino",
          "Feminino",
          "Feminino",
          "Feminino",
          "Feminino",
          "Feminino",
          "Feminino",
          "Feminino",
          "Feminino",
          "Feminino",
          "Feminino",
          "Feminino",
          "Feminino",
          "Feminino",
          "Feminino",
          "Feminino",
          "Feminino",
          "Feminino",
          "Feminino",
          "Feminino",
          "Feminino",
          "Feminino",
          "Feminino",
          "Feminino",
          "Feminino",
          "Unissex",
          "Unissex",
          "Unissex",
          "Unissex",
          "Unissex",
          "Unissex",
          "Unissex",
          "Unissex",
          "Unissex",
          "Unissex",
          "Unissex",
          "Unissex",
          "Unissex",
          "Unissex",
          "Unissex",
          "Unissex",
          "Unissex",
          "Unissex",
          "Unissex",
          "Unissex",
          "Unissex",
          "Unissex",
          "Unissex",
          "Unissex",
          "Unissex",
          "Unissex",
          "Unissex",
          "Unissex",
          "Unissex",
          "Unissex",
          "Unissex",
          "Unissex",
          "Unissex",
          "Unissex",
          "Unissex",
          "Unissex",
          "Unissex",
          "Unissex",
          "Unissex",
          "Unissex",
          "Unissex",
          "Unissex",
          "Unissex",
          "Unissex",
          "Unissex",
          "Unissex",
          "Unissex",
          "Unissex",
          "Unissex",
          "Unissex",
          "Unissex",
          "Unissex",
          "Unissex",
          "Unissex",
          "Unissex",
          "Unissex",
          "Unissex",
          "Unissex",
          "Unissex",
          "Unissex",
          "Unissex",
          "Unissex",
          "Unissex",
          "Unissex",
          "Unissex",
          "Unissex",
          "Unissex",
          "Unissex",
          "Unissex",
          "Unissex",
          "Unissex",
          "Unissex",
          "Unissex",
          "Unissex",
          "Unissex",
          "Unissex",
          "Unissex",
          "Unissex",
          "Unissex",
          "Unissex",
          "Unissex",
          "Unissex",
          "Unissex",
          "Unissex",
          "Unissex",
          "Unissex",
          "Unissex",
          "Unissex",
          "Unissex",
          "Unissex",
          "Unissex",
          "Unissex",
          "Unissex",
          "Unissex",
          "Unissex",
          "Unissex",
          "Unissex",
          "Unissex",
          "Unissex",
          "Unissex",
          "Unissex",
          "Unissex",
          "Unissex",
          "Unissex",
          "Unissex",
          "Unissex",
          "Unissex",
          "Unissex",
          "Unissex",
          "Unissex",
          "Unissex",
          "Unissex",
          "Unissex",
          "Unissex",
          "Unissex",
          "Unissex",
          "Unissex",
          "Unissex",
          "Unissex",
          "Unissex",
          "Unissex",
          "Unissex",
          "Unissex",
          "Unissex",
          "Unissex",
          "Unissex",
          "Unissex",
          "Unissex",
          "Unissex",
          "Unissex",
          "Unissex",
          "Unissex",
          "Unissex",
          "Unissex",
          "Unissex",
          "Unissex",
          "Unissex",
          "Unissex",
          "Unissex",
          "Unissex",
          "Unissex",
          "Unissex",
          "Unissex",
          "Unissex",
          "Unissex",
          "Unissex",
          "Unissex",
          "Unissex",
          "Unissex",
          "Unissex",
          "Unissex",
          "Unissex",
          "Unissex",
          "Unissex",
          "Unissex",
          "Unissex",
          "Unissex",
          "Unissex",
          "Unissex",
          "Unissex",
          "Unissex",
          "Unissex",
          "Unissex",
          "Unissex",
          "Unissex",
          "Unissex",
          "Unissex",
          "Unissex",
          "Unissex",
          "Unissex",
          "Unissex",
          "Unissex",
          "Unissex",
          "Unissex",
          "Unissex",
          "Unissex",
          "Unissex",
          "Unissex",
          "Unissex",
          "Unissex",
          "Unissex",
          "Unissex",
          "Unissex",
          "Unissex",
          "Unissex",
          "Unissex",
          "Unissex",
          "Unissex",
          "Unissex",
          "Unissex",
          "Unissex",
          "Unissex",
          "Unissex",
          "Unissex",
          "Unissex",
          "Masculino",
          "Masculino",
          "Masculino",
          "Masculino",
          "Masculino",
          "Masculino",
          "Masculino",
          "Masculino",
          "Masculino",
          "Masculino",
          "Masculino",
          "Masculino",
          "Masculino",
          "Masculino",
          "Masculino",
          "Masculino",
          "Masculino",
          "Masculino",
          "Masculino",
          "Masculino",
          "Masculino",
          "Masculino",
          "Masculino",
          "Masculino",
          "Masculino",
          "Masculino",
          "Masculino",
          "Masculino",
          "Masculino",
          "Masculino",
          "Masculino",
          "Masculino",
          "Masculino",
          "Masculino",
          "Masculino",
          "Masculino",
          "Masculino",
          "Masculino",
          "Masculino",
          "Masculino",
          "Masculino",
          "Masculino",
          "Masculino",
          "Masculino",
          "Masculino",
          "Masculino",
          "Masculino",
          "Masculino",
          "Masculino",
          "Masculino",
          "Masculino",
          "Masculino",
          "Masculino",
          "Masculino",
          "Masculino",
          "Masculino",
          "Masculino",
          "Masculino",
          "Masculino",
          "Masculino",
          "Masculino",
          "Masculino",
          "Masculino",
          "Masculino",
          "Masculino",
          "Masculino",
          "Masculino",
          "Masculino",
          "Masculino",
          "Masculino",
          "Masculino",
          "Masculino",
          "Masculino",
          "Masculino",
          "Masculino",
          "Masculino",
          "Masculino",
          "Masculino",
          "Masculino",
          "Masculino",
          "Masculino",
          "Masculino",
          "Masculino",
          "Masculino",
          "Masculino",
          "Masculino",
          "Masculino",
          "Masculino",
          "Masculino",
          "Masculino",
          "Masculino",
          "Masculino",
          "Masculino",
          "Masculino",
          "Masculino",
          "Masculino",
          "Masculino",
          "Masculino",
          "Masculino",
          "Masculino",
          "Masculino",
          "Masculino",
          "Masculino",
          "Masculino",
          "Masculino",
          "Masculino",
          "Masculino",
          "Masculino",
          "Unissex",
          "Unissex",
          "Unissex",
          "Unissex",
          "Unissex",
          "Unissex",
          "Unissex",
          "Unissex",
          "Unissex",
          "Unissex",
          "Unissex",
          "Unissex",
          "Unissex",
          "Unissex",
          "Unissex",
          "Unissex",
          "Unissex",
          "Unissex",
          "Unissex",
          "Unissex",
          "Unissex",
          "Unissex",
          "Unissex",
          "Unissex",
          "Unissex",
          "Unissex",
          "Unissex",
          "Unissex",
          "Unissex",
          "Unissex",
          "Unissex",
          "Unissex",
          "Unissex",
          "Unissex",
          "Unissex",
          "Unissex",
          "Unissex",
          "Unissex",
          "Unissex",
          "Unissex",
          "Unissex",
          "Unissex",
          "Unissex",
          "Unissex",
          "Unissex",
          "Unissex",
          "Unissex",
          "Unissex",
          "Unissex",
          "Unissex",
          "Unissex",
          "Unissex",
          "Unissex",
          "Unissex",
          "Unissex",
          "Unissex",
          "Unissex",
          "Unissex",
          "Unissex",
          "Unissex",
          "Unissex",
          "Unissex",
          "Unissex",
          "Unissex",
          "Unissex",
          null
         ],
         "legendgroup": "",
         "name": "",
         "showlegend": true,
         "type": "pie"
        }
       ],
       "layout": {
        "legend": {
         "tracegroupgap": 0
        },
        "template": {
         "data": {
          "bar": [
           {
            "error_x": {
             "color": "#2a3f5f"
            },
            "error_y": {
             "color": "#2a3f5f"
            },
            "marker": {
             "line": {
              "color": "#E5ECF6",
              "width": 0.5
             },
             "pattern": {
              "fillmode": "overlay",
              "size": 10,
              "solidity": 0.2
             }
            },
            "type": "bar"
           }
          ],
          "barpolar": [
           {
            "marker": {
             "line": {
              "color": "#E5ECF6",
              "width": 0.5
             },
             "pattern": {
              "fillmode": "overlay",
              "size": 10,
              "solidity": 0.2
             }
            },
            "type": "barpolar"
           }
          ],
          "carpet": [
           {
            "aaxis": {
             "endlinecolor": "#2a3f5f",
             "gridcolor": "white",
             "linecolor": "white",
             "minorgridcolor": "white",
             "startlinecolor": "#2a3f5f"
            },
            "baxis": {
             "endlinecolor": "#2a3f5f",
             "gridcolor": "white",
             "linecolor": "white",
             "minorgridcolor": "white",
             "startlinecolor": "#2a3f5f"
            },
            "type": "carpet"
           }
          ],
          "choropleth": [
           {
            "colorbar": {
             "outlinewidth": 0,
             "ticks": ""
            },
            "type": "choropleth"
           }
          ],
          "contour": [
           {
            "colorbar": {
             "outlinewidth": 0,
             "ticks": ""
            },
            "colorscale": [
             [
              0,
              "#0d0887"
             ],
             [
              0.1111111111111111,
              "#46039f"
             ],
             [
              0.2222222222222222,
              "#7201a8"
             ],
             [
              0.3333333333333333,
              "#9c179e"
             ],
             [
              0.4444444444444444,
              "#bd3786"
             ],
             [
              0.5555555555555556,
              "#d8576b"
             ],
             [
              0.6666666666666666,
              "#ed7953"
             ],
             [
              0.7777777777777778,
              "#fb9f3a"
             ],
             [
              0.8888888888888888,
              "#fdca26"
             ],
             [
              1,
              "#f0f921"
             ]
            ],
            "type": "contour"
           }
          ],
          "contourcarpet": [
           {
            "colorbar": {
             "outlinewidth": 0,
             "ticks": ""
            },
            "type": "contourcarpet"
           }
          ],
          "heatmap": [
           {
            "colorbar": {
             "outlinewidth": 0,
             "ticks": ""
            },
            "colorscale": [
             [
              0,
              "#0d0887"
             ],
             [
              0.1111111111111111,
              "#46039f"
             ],
             [
              0.2222222222222222,
              "#7201a8"
             ],
             [
              0.3333333333333333,
              "#9c179e"
             ],
             [
              0.4444444444444444,
              "#bd3786"
             ],
             [
              0.5555555555555556,
              "#d8576b"
             ],
             [
              0.6666666666666666,
              "#ed7953"
             ],
             [
              0.7777777777777778,
              "#fb9f3a"
             ],
             [
              0.8888888888888888,
              "#fdca26"
             ],
             [
              1,
              "#f0f921"
             ]
            ],
            "type": "heatmap"
           }
          ],
          "histogram": [
           {
            "marker": {
             "pattern": {
              "fillmode": "overlay",
              "size": 10,
              "solidity": 0.2
             }
            },
            "type": "histogram"
           }
          ],
          "histogram2d": [
           {
            "colorbar": {
             "outlinewidth": 0,
             "ticks": ""
            },
            "colorscale": [
             [
              0,
              "#0d0887"
             ],
             [
              0.1111111111111111,
              "#46039f"
             ],
             [
              0.2222222222222222,
              "#7201a8"
             ],
             [
              0.3333333333333333,
              "#9c179e"
             ],
             [
              0.4444444444444444,
              "#bd3786"
             ],
             [
              0.5555555555555556,
              "#d8576b"
             ],
             [
              0.6666666666666666,
              "#ed7953"
             ],
             [
              0.7777777777777778,
              "#fb9f3a"
             ],
             [
              0.8888888888888888,
              "#fdca26"
             ],
             [
              1,
              "#f0f921"
             ]
            ],
            "type": "histogram2d"
           }
          ],
          "histogram2dcontour": [
           {
            "colorbar": {
             "outlinewidth": 0,
             "ticks": ""
            },
            "colorscale": [
             [
              0,
              "#0d0887"
             ],
             [
              0.1111111111111111,
              "#46039f"
             ],
             [
              0.2222222222222222,
              "#7201a8"
             ],
             [
              0.3333333333333333,
              "#9c179e"
             ],
             [
              0.4444444444444444,
              "#bd3786"
             ],
             [
              0.5555555555555556,
              "#d8576b"
             ],
             [
              0.6666666666666666,
              "#ed7953"
             ],
             [
              0.7777777777777778,
              "#fb9f3a"
             ],
             [
              0.8888888888888888,
              "#fdca26"
             ],
             [
              1,
              "#f0f921"
             ]
            ],
            "type": "histogram2dcontour"
           }
          ],
          "mesh3d": [
           {
            "colorbar": {
             "outlinewidth": 0,
             "ticks": ""
            },
            "type": "mesh3d"
           }
          ],
          "parcoords": [
           {
            "line": {
             "colorbar": {
              "outlinewidth": 0,
              "ticks": ""
             }
            },
            "type": "parcoords"
           }
          ],
          "pie": [
           {
            "automargin": true,
            "type": "pie"
           }
          ],
          "scatter": [
           {
            "fillpattern": {
             "fillmode": "overlay",
             "size": 10,
             "solidity": 0.2
            },
            "type": "scatter"
           }
          ],
          "scatter3d": [
           {
            "line": {
             "colorbar": {
              "outlinewidth": 0,
              "ticks": ""
             }
            },
            "marker": {
             "colorbar": {
              "outlinewidth": 0,
              "ticks": ""
             }
            },
            "type": "scatter3d"
           }
          ],
          "scattercarpet": [
           {
            "marker": {
             "colorbar": {
              "outlinewidth": 0,
              "ticks": ""
             }
            },
            "type": "scattercarpet"
           }
          ],
          "scattergeo": [
           {
            "marker": {
             "colorbar": {
              "outlinewidth": 0,
              "ticks": ""
             }
            },
            "type": "scattergeo"
           }
          ],
          "scattergl": [
           {
            "marker": {
             "colorbar": {
              "outlinewidth": 0,
              "ticks": ""
             }
            },
            "type": "scattergl"
           }
          ],
          "scattermap": [
           {
            "marker": {
             "colorbar": {
              "outlinewidth": 0,
              "ticks": ""
             }
            },
            "type": "scattermap"
           }
          ],
          "scattermapbox": [
           {
            "marker": {
             "colorbar": {
              "outlinewidth": 0,
              "ticks": ""
             }
            },
            "type": "scattermapbox"
           }
          ],
          "scatterpolar": [
           {
            "marker": {
             "colorbar": {
              "outlinewidth": 0,
              "ticks": ""
             }
            },
            "type": "scatterpolar"
           }
          ],
          "scatterpolargl": [
           {
            "marker": {
             "colorbar": {
              "outlinewidth": 0,
              "ticks": ""
             }
            },
            "type": "scatterpolargl"
           }
          ],
          "scatterternary": [
           {
            "marker": {
             "colorbar": {
              "outlinewidth": 0,
              "ticks": ""
             }
            },
            "type": "scatterternary"
           }
          ],
          "surface": [
           {
            "colorbar": {
             "outlinewidth": 0,
             "ticks": ""
            },
            "colorscale": [
             [
              0,
              "#0d0887"
             ],
             [
              0.1111111111111111,
              "#46039f"
             ],
             [
              0.2222222222222222,
              "#7201a8"
             ],
             [
              0.3333333333333333,
              "#9c179e"
             ],
             [
              0.4444444444444444,
              "#bd3786"
             ],
             [
              0.5555555555555556,
              "#d8576b"
             ],
             [
              0.6666666666666666,
              "#ed7953"
             ],
             [
              0.7777777777777778,
              "#fb9f3a"
             ],
             [
              0.8888888888888888,
              "#fdca26"
             ],
             [
              1,
              "#f0f921"
             ]
            ],
            "type": "surface"
           }
          ],
          "table": [
           {
            "cells": {
             "fill": {
              "color": "#EBF0F8"
             },
             "line": {
              "color": "white"
             }
            },
            "header": {
             "fill": {
              "color": "#C8D4E3"
             },
             "line": {
              "color": "white"
             }
            },
            "type": "table"
           }
          ]
         },
         "layout": {
          "annotationdefaults": {
           "arrowcolor": "#2a3f5f",
           "arrowhead": 0,
           "arrowwidth": 1
          },
          "autotypenumbers": "strict",
          "coloraxis": {
           "colorbar": {
            "outlinewidth": 0,
            "ticks": ""
           }
          },
          "colorscale": {
           "diverging": [
            [
             0,
             "#8e0152"
            ],
            [
             0.1,
             "#c51b7d"
            ],
            [
             0.2,
             "#de77ae"
            ],
            [
             0.3,
             "#f1b6da"
            ],
            [
             0.4,
             "#fde0ef"
            ],
            [
             0.5,
             "#f7f7f7"
            ],
            [
             0.6,
             "#e6f5d0"
            ],
            [
             0.7,
             "#b8e186"
            ],
            [
             0.8,
             "#7fbc41"
            ],
            [
             0.9,
             "#4d9221"
            ],
            [
             1,
             "#276419"
            ]
           ],
           "sequential": [
            [
             0,
             "#0d0887"
            ],
            [
             0.1111111111111111,
             "#46039f"
            ],
            [
             0.2222222222222222,
             "#7201a8"
            ],
            [
             0.3333333333333333,
             "#9c179e"
            ],
            [
             0.4444444444444444,
             "#bd3786"
            ],
            [
             0.5555555555555556,
             "#d8576b"
            ],
            [
             0.6666666666666666,
             "#ed7953"
            ],
            [
             0.7777777777777778,
             "#fb9f3a"
            ],
            [
             0.8888888888888888,
             "#fdca26"
            ],
            [
             1,
             "#f0f921"
            ]
           ],
           "sequentialminus": [
            [
             0,
             "#0d0887"
            ],
            [
             0.1111111111111111,
             "#46039f"
            ],
            [
             0.2222222222222222,
             "#7201a8"
            ],
            [
             0.3333333333333333,
             "#9c179e"
            ],
            [
             0.4444444444444444,
             "#bd3786"
            ],
            [
             0.5555555555555556,
             "#d8576b"
            ],
            [
             0.6666666666666666,
             "#ed7953"
            ],
            [
             0.7777777777777778,
             "#fb9f3a"
            ],
            [
             0.8888888888888888,
             "#fdca26"
            ],
            [
             1,
             "#f0f921"
            ]
           ]
          },
          "colorway": [
           "#636efa",
           "#EF553B",
           "#00cc96",
           "#ab63fa",
           "#FFA15A",
           "#19d3f3",
           "#FF6692",
           "#B6E880",
           "#FF97FF",
           "#FECB52"
          ],
          "font": {
           "color": "#2a3f5f"
          },
          "geo": {
           "bgcolor": "white",
           "lakecolor": "white",
           "landcolor": "#E5ECF6",
           "showlakes": true,
           "showland": true,
           "subunitcolor": "white"
          },
          "hoverlabel": {
           "align": "left"
          },
          "hovermode": "closest",
          "mapbox": {
           "style": "light"
          },
          "paper_bgcolor": "white",
          "plot_bgcolor": "#E5ECF6",
          "polar": {
           "angularaxis": {
            "gridcolor": "white",
            "linecolor": "white",
            "ticks": ""
           },
           "bgcolor": "#E5ECF6",
           "radialaxis": {
            "gridcolor": "white",
            "linecolor": "white",
            "ticks": ""
           }
          },
          "scene": {
           "xaxis": {
            "backgroundcolor": "#E5ECF6",
            "gridcolor": "white",
            "gridwidth": 2,
            "linecolor": "white",
            "showbackground": true,
            "ticks": "",
            "zerolinecolor": "white"
           },
           "yaxis": {
            "backgroundcolor": "#E5ECF6",
            "gridcolor": "white",
            "gridwidth": 2,
            "linecolor": "white",
            "showbackground": true,
            "ticks": "",
            "zerolinecolor": "white"
           },
           "zaxis": {
            "backgroundcolor": "#E5ECF6",
            "gridcolor": "white",
            "gridwidth": 2,
            "linecolor": "white",
            "showbackground": true,
            "ticks": "",
            "zerolinecolor": "white"
           }
          },
          "shapedefaults": {
           "line": {
            "color": "#2a3f5f"
           }
          },
          "ternary": {
           "aaxis": {
            "gridcolor": "white",
            "linecolor": "white",
            "ticks": ""
           },
           "baxis": {
            "gridcolor": "white",
            "linecolor": "white",
            "ticks": ""
           },
           "bgcolor": "#E5ECF6",
           "caxis": {
            "gridcolor": "white",
            "linecolor": "white",
            "ticks": ""
           }
          },
          "title": {
           "x": 0.05
          },
          "xaxis": {
           "automargin": true,
           "gridcolor": "white",
           "linecolor": "white",
           "ticks": "",
           "title": {
            "standoff": 15
           },
           "zerolinecolor": "white",
           "zerolinewidth": 2
          },
          "yaxis": {
           "automargin": true,
           "gridcolor": "white",
           "linecolor": "white",
           "ticks": "",
           "title": {
            "standoff": 15
           },
           "zerolinecolor": "white",
           "zerolinewidth": 2
          }
         }
        },
        "title": {
         "text": "Distribuição por Gênero"
        }
       }
      }
     },
     "metadata": {},
     "output_type": "display_data"
    },
    {
     "data": {
      "application/vnd.plotly.v1+json": {
       "config": {
        "plotlyServerURL": "https://plot.ly"
       },
       "data": [
        {
         "hovertemplate": "Preço=%{x}<br>Estoque=%{y}<extra></extra>",
         "legendgroup": "",
         "marker": {
          "color": "#636efa",
          "symbol": "circle"
         },
         "mode": "markers",
         "name": "",
         "showlegend": false,
         "type": "scattergl",
         "x": {
          "bdata": "rkfhehT+UUCuR+F6FP5RQK5H4XoU/lFArkfhehT+UUCuR+F6FP5RQK5H4XoU/lFArkfhehT+UUCuR+F6FP5RQK5H4XoU/lFArkfhehT+UUCuR+F6FP5RQK5H4XoU/lFArkfhehT+UUCuR+F6FP5RQK5H4XoU/lFArkfhehT+UUCuR+F6FP5RQK5H4XoU/lFArkfhehT+UUCuR+F6FP5RQK5H4XoU/lFArkfhehT+UUCuR+F6FP5RQK5H4XoU/lFArkfhehT+UUCuR+F6FP5RQK5H4XoU/lFArkfhehT+UUCuR+F6FP5RQK5H4XoU/lFArkfhehT+UUCuR+F6FP5RQK5H4XoU/lFArkfhehT+UUCuR+F6FP5RQK5H4XoU/lFArkfhehT+UUCuR+F6FP5RQK5H4XoU/lFArkfhehT+UUCuR+F6FP5RQK5H4XoU/lFArkfhehT+UUCuR+F6FP5RQK5H4XoU/lFArkfhehT+UUCuR+F6FP5RQK5H4XoU/lFArkfhehT+UUCuR+F6FP5RQK5H4XoU/lFArkfhehT+UUCuR+F6FP5RQK5H4XoU/lFArkfhehT+UUCuR+F6FP5RQK5H4XoU/lFArkfhehT+UUCuR+F6FP5RQK5H4XoU/lFArkfhehT+UUCuR+F6FP5RQK5H4XoU/lFArkfhehT+UUCuR+F6FP5RQK5H4XoU/lFArkfhehT+UUCuR+F6FP5RQK5H4XoU/lFArkfhehT+UUCuR+F6FP5RQK5H4XoU/lFArkfhehT+UUCuR+F6FP5RQK5H4XoU/lFArkfhehT+UUCuR+F6FP5RQK5H4XoU/lFArkfhehT+UUCuR+F6FP5RQK5H4XoU/lFArkfhehT+UUCuR+F6FP5RQK5H4XoU/lFArkfhehT+UUCuR+F6FP5RQK5H4XoU/lFArkfhehT+UUCuR+F6FP5RQK5H4XoU/lFAj8L1KFy/UECPwvUoXL9QQI/C9Shcv1BAj8L1KFy/UECPwvUoXL9QQI/C9Shcv1BAj8L1KFy/UECPwvUoXL9QQI/C9Shcv1BAj8L1KFy/UECPwvUoXL9QQI/C9Shcv1BAj8L1KFy/UECPwvUoXL9QQI/C9Shcv1BAj8L1KFy/UECPwvUoXL9QQI/C9Shcv1BAj8L1KFy/UECPwvUoXL9QQI/C9Shcv1BAj8L1KFy/UECPwvUoXL9QQI/C9Shcv1BAj8L1KFy/UECPwvUoXL9QQI/C9Shcv1BAj8L1KFy/UECPwvUoXL9QQI/C9Shcv1BAj8L1KFy/UECPwvUoXL9QQI/C9Shcv1BAj8L1KFy/UECPwvUoXL9QQI/C9Shcv1BAj8L1KFy/UECPwvUoXL9QQI/C9Shcv1BAj8L1KFy/UECPwvUoXL9QQI/C9Shcv1BAj8L1KFy/UECPwvUoXL9QQI/C9Shcv1BAj8L1KFy/UECPwvUoXL9QQI/C9Shcv1BAj8L1KFy/UECPwvUoXL9QQI/C9Shcv1BAj8L1KFy/UECPwvUoXL9QQI/C9Shcv1BAj8L1KFy/UECPwvUoXL9QQI/C9Shcv1BAj8L1KFy/UECPwvUoXL9QQI/C9Shcv1BAj8L1KFy/UECPwvUoXL9QQI/C9Shcv1BAj8L1KFy/UECPwvUoXL9QQI/C9Shcv1BAj8L1KFy/UECPwvUoXL9QQI/C9Shcv1BAj8L1KFy/UECPwvUoXL9QQI/C9Shcv1BAj8L1KFy/UECPwvUoXL9QQI/C9Shcv1BAj8L1KFy/UECPwvUoXL9QQI/C9Shcv1BAj8L1KFy/UECPwvUoXL9QQI/C9Shcv1BAj8L1KFy/UECPwvUoXL9QQI/C9Shcv1BAj8L1KFy/UECPwvUoXL9QQI/C9Shcv1BAj8L1KFy/UECPwvUoXL9QQI/C9Shcv1BArkfhehR+UkCuR+F6FH5SQK5H4XoUflJArkfhehR+UkCuR+F6FH5SQK5H4XoUflJArkfhehR+UkCuR+F6FH5SQK5H4XoUflJArkfhehR+UkCuR+F6FH5SQK5H4XoUflJArkfhehR+UkCuR+F6FH5SQK5H4XoUflJArkfhehR+UkCuR+F6FH5SQK5H4XoUflJArkfhehR+UkCuR+F6FH5SQK5H4XoUflJArkfhehR+UkCuR+F6FH5SQK5H4XoUflJArkfhehR+UkCuR+F6FH5SQK5H4XoUflJArkfhehR+UkCuR+F6FH5SQK5H4XoUflJArkfhehR+UkCuR+F6FH5SQK5H4XoUflJArkfhehR+UkCuR+F6FH5SQK5H4XoUflJArkfhehR+UkCuR+F6FH5SQK5H4XoUflJArkfhehR+UkCuR+F6FH5SQK5H4XoUflJArkfhehR+UkCuR+F6FH5SQK5H4XoUflJArkfhehR+UkCuR+F6FH5SQK5H4XoUflJArkfhehR+UkCuR+F6FH5SQK5H4XoUflJArkfhehR+UkCuR+F6FH5SQK5H4XoUflJArkfhehR+UkCuR+F6FH5SQK5H4XoUflJArkfhehR+UkCuR+F6FH5SQK5H4XoUflJArkfhehR+UkCuR+F6FH5SQK5H4XoUflJArkfhehR+UkCuR+F6FH5SQK5H4XoUflJArkfhehR+UkCuR+F6FH5SQK5H4XoUflJArkfhehR+UkCuR+F6FH5SQK5H4XoUflJArkfhehR+UkCuR+F6FH5SQK5H4XoUflJArkfhehR+UkCuR+F6FH5SQK5H4XoUflJArkfhehR+UkCuR+F6FH5SQK5H4XoUflJArkfhehR+UkCuR+F6FH5SQK5H4XoUflJArkfhehR+UkCuR+F6FH5SQK5H4XoUflJArkfhehR+UkCuR+F6FH5SQK5H4XoUflJASOF6FK6/YUBI4XoUrr9hQEjhehSuv2FASOF6FK6/YUBI4XoUrr9hQEjhehSuv2FASOF6FK6/YUBI4XoUrr9hQEjhehSuv2FASOF6FK6/YUBI4XoUrr9hQEjhehSuv2FASOF6FK6/YUBI4XoUrr9hQEjhehSuv2FASOF6FK6/YUBI4XoUrr9hQEjhehSuv2FASOF6FK6/YUBI4XoUrr9hQEjhehSuv2FASOF6FK6/YUBI4XoUrr9hQEjhehSuv2FASOF6FK6/YUBI4XoUrr9hQEjhehSuv2FASOF6FK6/YUBI4XoUrr9hQEjhehSuv2FASOF6FK6/YUBI4XoUrr9hQEjhehSuv2FASOF6FK6/YUBI4XoUrr9hQEjhehSuv2FAj8L1KFw/UUCPwvUoXD9RQI/C9ShcP1FAj8L1KFw/UUCPwvUoXD9RQI/C9ShcP1FAj8L1KFw/UUCPwvUoXD9RQI/C9ShcP1FAj8L1KFw/UUCPwvUoXD9RQI/C9ShcP1FAj8L1KFw/UUCPwvUoXD9RQI/C9ShcP1FAj8L1KFw/UUCPwvUoXD9RQI/C9ShcP1FAj8L1KFw/UUCPwvUoXD9RQI/C9ShcP1FAj8L1KFw/UUCPwvUoXD9RQI/C9ShcP1FAj8L1KFx/WkCPwvUoXH9aQI/C9Shcf1pAj8L1KFx/WkCPwvUoXH9aQI/C9Shcf1pAj8L1KFx/WkCPwvUoXH9aQI/C9Shcf1pAj8L1KFx/WkCPwvUoXH9aQI/C9Shcf1pAj8L1KFy/UECPwvUoXL9QQI/C9Shcv1BAj8L1KFy/UECPwvUoXL9QQI/C9Shcv1BAj8L1KFy/UECPwvUoXL9QQI/C9Shcv1BAj8L1KFy/UECPwvUoXL9QQI/C9Shcv1BAj8L1KFy/UECPwvUoXL9QQI/C9Shcv1BAj8L1KFy/UECPwvUoXL9QQI/C9Shcv1BAj8L1KFy/UECPwvUoXL9QQI/C9Shcv1BAj8L1KFy/UECPwvUoXL9QQI/C9Shcv1BAj8L1KFy/UECPwvUoXL9QQI/C9Shcv1BAj8L1KFy/UECPwvUoXL9QQI/C9Shcv1BAj8L1KFy/UECPwvUoXL9QQI/C9Shcv1BAj8L1KFy/UECPwvUoXL9QQI/C9Shcv1BAj8L1KFy/UECPwvUoXL9QQI/C9Shcv1BAj8L1KFy/UECPwvUoXL9QQI/C9Shcv1BAj8L1KFy/UECPwvUoXL9QQI/C9Shcv1BAj8L1KFy/UECPwvUoXL9QQI/C9Shcv1BAj8L1KFy/UECPwvUoXL9QQI/C9Shcv1BAj8L1KFy/UECPwvUoXL9QQI/C9Shcv1BAj8L1KFy/UECPwvUoXL9QQI/C9Shcv1BAj8L1KFy/UECPwvUoXL9QQI/C9Shcv1BAj8L1KFy/UECPwvUoXL9QQI/C9Shcv1BAj8L1KFy/UECPwvUoXL9QQI/C9Shcv1BAj8L1KFy/UECPwvUoXL9QQI/C9Shcv1BAj8L1KFy/UECPwvUoXL9QQI/C9Shcv1BAj8L1KFw/UUCPwvUoXD9RQI/C9ShcP1FAj8L1KFw/UUCPwvUoXD9RQI/C9ShcP1FAj8L1KFw/UUCPwvUoXD9RQI/C9ShcP1FAj8L1KFw/UUCPwvUoXD9RQI/C9ShcP1FAj8L1KFw/UUCPwvUoXD9RQI/C9ShcP1FAj8L1KFw/UUCPwvUoXD9RQI/C9ShcP1FAj8L1KFw/UUCPwvUoXD9RQI/C9ShcP1FAj8L1KFw/UUCPwvUoXD9RQI/C9ShcP1FAj8L1KFx/UkCPwvUoXH9SQI/C9Shcf1JAj8L1KFx/UkCPwvUoXH9SQI/C9Shcf1JAj8L1KFx/UkCPwvUoXH9SQI/C9Shcf1JAj8L1KFx/UkCPwvUoXH9SQI/C9Shcf1JAj8L1KFx/UkCPwvUoXH9SQI/C9Shcf1JAj8L1KFx/UkCPwvUoXH9SQI/C9Shcf1JAj8L1KFx/UkCPwvUoXH9SQI/C9Shcf1JAj8L1KFx/UkCPwvUoXH9SQI/C9Shcf1JAj8L1KFx/UkCPwvUoXH9SQI/C9Shcf1JAj8L1KFx/UkCPwvUoXH9SQI/C9Shcf1JAj8L1KFx/UkCPwvUoXH9SQI/C9Shcf1JAj8L1KFx/UkCPwvUoXH9SQI/C9Shcf1JAj8L1KFx/UkCPwvUoXH9SQI/C9Shcf1JAj8L1KFx/UkCPwvUoXH9SQI/C9Shcf1JAj8L1KFx/UkCPwvUoXH9SQI/C9Shcf1JAj8L1KFx/UkCPwvUoXH9SQI/C9Shcf1JAj8L1KFx/UkCPwvUoXH9SQI/C9Shcf1JAj8L1KFx/UkCPwvUoXH9SQI/C9Shcf1JAj8L1KFx/UkCPwvUoXH9SQI/C9Shcf1JAj8L1KFx/UkCPwvUoXH9SQI/C9Shcf1JAj8L1KFy/UECPwvUoXL9QQI/C9Shcv1BAj8L1KFy/UECPwvUoXL9QQI/C9Shcv1BAj8L1KFy/UECPwvUoXL9QQI/C9Shcv1BAj8L1KFy/UECPwvUoXL9QQI/C9Shcv1BAj8L1KFy/UECPwvUoXL9QQI/C9Shcv1BAj8L1KFy/UECPwvUoXL9QQI/C9Shcv1BAj8L1KFy/UECPwvUoXL9QQI/C9Shcv1BAj8L1KFy/UECPwvUoXL9QQI/C9Shcv1BAj8L1KFy/UECPwvUoXH9SQI/C9Shcv1BAj8L1KFy/UECPwvUoXL9QQI/C9Shcv1BAj8L1KFy/UECPwvUoXL9QQI/C9Shcv1BAj8L1KFy/UECPwvUoXL9QQI/C9Shcv1BAj8L1KFy/UECPwvUoXL9QQI/C9Shcv1BAj8L1KFy/UECPwvUoXL9QQI/C9Shcv1BAj8L1KFy/UECPwvUoXL9QQI/C9Shcv1BAj8L1KFy/UECPwvUoXL9QQI/C9Shcv1BAj8L1KFy/UECPwvUoXL9QQI/C9Shcv1BAj8L1KFx/UkCPwvUoXL9QQI/C9Shcv1BAj8L1KFy/UECPwvUoXL9QQI/C9Shcv1BAj8L1KFy/UECPwvUoXL9QQI/C9Shcv1BAj8L1KFy/UECPwvUoXL9QQI/C9Shcv1BAj8L1KFy/UECPwvUoXL9QQI/C9Shcv1BAj8L1KFy/UECPwvUoXL9QQI/C9Shcv1BAj8L1KFy/UECPwvUoXL9QQI/C9Shcv1BAj8L1KFy/UECPwvUoXL9QQI/C9Shcv1BAj8L1KFy/UECPwvUoXL9QQI/C9Shc/1lAj8L1KFz/WUCPwvUoXP9ZQI/C9Shc/1lAj8L1KFz/WUCPwvUoXP9ZQI/C9Shc/1lAj8L1KFz/WUCPwvUoXP9ZQI/C9Shc/1lAj8L1KFz/WUCPwvUoXP9ZQEjhehSuf2ZASOF6FK5/ZkBI4XoUrn9mQEjhehSuf2ZASOF6FK5/ZkBI4XoUrn9mQEjhehSuf2ZASOF6FK5/ZkBI4XoUrn9mQEjhehSuf2ZASOF6FK5/ZkBI4XoUrn9mQEjhehSuf2ZASOF6FK5/ZkBI4XoUrn9mQEjhehSuf2ZASOF6FK5/ZkBI4XoUrn9mQI/C9Shc/15Aj8L1KFz/XkCPwvUoXP9eQI/C9Shc/15Aj8L1KFz/XkCPwvUoXP9eQI/C9Shc/15Aj8L1KFz/XkCPwvUoXP9eQI/C9Shc/15Aj8L1KFz/XkCPwvUoXP9eQI/C9Shc/15Aj8L1KFz/XkCPwvUoXP9eQI/C9Shc/15Aj8L1KFz/XkCPwvUoXP9eQI/C9Shcv1BAj8L1KFy/UECPwvUoXL9QQI/C9Shcv1BAj8L1KFy/UECPwvUoXL9QQI/C9Shcv1BAj8L1KFy/UECPwvUoXL9QQI/C9Shcv1BAj8L1KFy/UECPwvUoXL9QQI/C9Shcv1BAj8L1KFy/UECPwvUoXL9QQI/C9Shcv1BAj8L1KFy/UECPwvUoXL9QQI/C9Shcv1BAj8L1KFy/UECPwvUoXL9QQI/C9Shcv1BAj8L1KFy/UECPwvUoXL9QQI/C9Shcv1BAj8L1KFy/UECPwvUoXL9QQI/C9Shcv1BAj8L1KFy/UECPwvUoXL9QQI/C9Shcv1BAj8L1KFy/UECPwvUoXL9QQI/C9Shcv1BAj8L1KFy/UECPwvUoXL9QQI/C9Shcv1BAj8L1KFy/UECPwvUoXL9QQI/C9Shcv1BAj8L1KFy/UECPwvUoXL9QQI/C9Shcv1BAj8L1KFy/UECPwvUoXL9QQI/C9Shcv1BAj8L1KFy/UECPwvUoXL9QQI/C9Shcv1BAj8L1KFy/UECPwvUoXL9QQI/C9Shcv1BAj8L1KFy/UECPwvUoXL9QQI/C9Shcv1BAj8L1KFy/UECPwvUoXL9QQI/C9Shcv1BAj8L1KFy/UECPwvUoXL9QQI/C9Shcv1BAj8L1KFy/UECPwvUoXL9QQI/C9Shcv1BAj8L1KFy/UECPwvUoXL9QQI/C9Shcv1BAj8L1KFy/UECPwvUoXL9QQI/C9Shcv1BAj8L1KFy/UECPwvUoXL9QQI/C9Shcv1BAj8L1KFy/UECPwvUoXL9QQI/C9Shc/1FAj8L1KFz/UUCPwvUoXP9RQI/C9Shc/1FAj8L1KFz/UUCPwvUoXP9RQI/C9Shc/1FAj8L1KFz/UUCPwvUoXP9RQI/C9Shc/1FAj8L1KFz/UUCPwvUoXP9RQI/C9Shc/1FAj8L1KFz/UUCPwvUoXP9RQI/C9Shc/1FAj8L1KFz/UUCPwvUoXP9RQI/C9Shc/1FAj8L1KFz/UUCPwvUoXP9RQI/C9Shc/1FAj8L1KFz/UUCPwvUoXP9RQI/C9Shc/1FAj8L1KFz/UUCPwvUoXP9RQI/C9Shc/1FAj8L1KFz/UUCPwvUoXP9RQI/C9Shc/1FAj8L1KFz/UUCPwvUoXP9RQI/C9Shc/1FAj8L1KFz/UUCPwvUoXP9RQI/C9Shc/1FAj8L1KFz/UUCPwvUoXP9RQI/C9Shc/1FAj8L1KFz/UUCPwvUoXP9RQI/C9Shc/1FAj8L1KFz/UUCPwvUoXP9RQI/C9Shc/1FAj8L1KFz/UUCPwvUoXP9RQI/C9Shc/1FAj8L1KFz/UUCPwvUoXP9RQI/C9Shc/1FAj8L1KFz/UUCPwvUoXP9RQI/C9Shc/1FAj8L1KFz/UUCPwvUoXP9RQI/C9Shc/1FAj8L1KFz/UUCPwvUoXP9RQI/C9Shc/1FAj8L1KFz/UUCPwvUoXP9RQI/C9Shc/1FAj8L1KFz/UUCPwvUoXP9RQI/C9Shc/1FAj8L1KFz/UUCPwvUoXP9RQI/C9Shc/1FAj8L1KFz/UUCPwvUoXP9RQI/C9Shc/1FAj8L1KFz/UUCPwvUoXP9RQI/C9Shc/1FAj8L1KFz/UUCPwvUoXP9RQI/C9Shc/1FAj8L1KFz/UUCPwvUoXP9RQI/C9Shc/1FAj8L1KFz/UUCPwvUoXP9RQI/C9Shc/1FAj8L1KFz/UUCPwvUoXP9RQI/C9Shc/1FAj8L1KFz/UUCPwvUoXP9RQI/C9Shc/1FAj8L1KFz/UUCPwvUoXP9RQI/C9Shc/1FAj8L1KFz/UUCPwvUoXP9RQI/C9Shc/1FAj8L1KFz/UUCPwvUoXP9RQI/C9Shc/1FAj8L1KFz/UUCPwvUoXP9RQI/C9Shc/1FAj8L1KFz/UUCPwvUoXP9RQI/C9Shc/1FAj8L1KFz/UUCPwvUoXP9RQI/C9Shc/1FAj8L1KFz/UUCPwvUoXP9RQI/C9Shc/1FAj8L1KFz/UUCPwvUoXP9RQI/C9Shc/1FAj8L1KFz/UUCPwvUoXP9RQI/C9Shc/1FAj8L1KFz/UUCPwvUoXP9RQI/C9Shc/1FAj8L1KFz/UUCPwvUoXP9RQI/C9Shc/1FAj8L1KFz/UUCPwvUoXP9RQI/C9Shc/1FAj8L1KFz/UUCPwvUoXP9RQI/C9Shc/1FAj8L1KFz/UUCPwvUoXP9RQI/C9Shc/1FAj8L1KFz/UUCPwvUoXP9RQI/C9Shc/1FAj8L1KFz/UUCPwvUoXP9RQI/C9Shc/1FAj8L1KFz/UUCPwvUoXP9RQI/C9Shc/1FAj8L1KFz/UUCPwvUoXP9RQI/C9Shc/1FAj8L1KFz/UUCPwvUoXP9RQI/C9Shc/1FAj8L1KFz/UUCPwvUoXP9RQI/C9Shc/1FAj8L1KFz/UUCPwvUoXP9RQI/C9Shc/1FAj8L1KFz/UUCPwvUoXP9RQI/C9Shc/1FAj8L1KFz/UUCPwvUoXP9RQI/C9Shc/1FAj8L1KFz/UUCPwvUoXP9RQI/C9Shc/1FAj8L1KFz/UUCPwvUoXP9RQI/C9Shc/1FAj8L1KFz/UUCPwvUoXP9RQI/C9Shc/1FAj8L1KFz/UUCPwvUoXP9RQI/C9Shc/1FAj8L1KFz/UUCPwvUoXP9RQI/C9Shc/1FAj8L1KFz/UUCPwvUoXP9RQI/C9Shc/1FAj8L1KFz/UUCPwvUoXP9RQI/C9Shc/1FAj8L1KFz/UUCPwvUoXP9RQI/C9Shc/1FAj8L1KFz/UUCPwvUoXP9RQI/C9Shc/1FAj8L1KFz/UUCPwvUoXP9RQI/C9Shc/1FAj8L1KFz/UUCPwvUoXP9RQI/C9Shc/1FAj8L1KFz/UUCPwvUoXP9RQI/C9Shc/1FAj8L1KFz/UUCPwvUoXP9RQI/C9Shc/1FAj8L1KFz/UUCPwvUoXP9RQI/C9Shc/1FAj8L1KFz/UUCPwvUoXP9RQI/C9Shc/1FAj8L1KFz/UUCPwvUoXP9RQI/C9Shc/1FAj8L1KFz/UUCPwvUoXP9RQI/C9Shc/1FAj8L1KFz/UUCPwvUoXP9RQI/C9Shc/1FAj8L1KFz/UUCPwvUoXP9RQI/C9Shc/1FAj8L1KFz/UUCPwvUoXP9RQI/C9Shc/1FAj8L1KFz/UUCPwvUoXP9RQI/C9Shc/1FAj8L1KFz/UUCPwvUoXP9RQI/C9Shc/1FAj8L1KFz/UUCPwvUoXP9RQI/C9Shc/1FAj8L1KFz/UUCPwvUoXP9RQI/C9Shc/1FAj8L1KFz/UUCPwvUoXP9RQI/C9Shc/1FAj8L1KFz/UUCPwvUoXP9RQI/C9Shc/1FAj8L1KFz/UUCPwvUoXP9RQI/C9Shc/1FAj8L1KFz/UUCPwvUoXP9RQI/C9Shc/1FAj8L1KFz/UUCPwvUoXP9RQI/C9Shc/1FAj8L1KFz/UUCPwvUoXP9RQI/C9Shc/1FAj8L1KFz/UUCPwvUoXP9RQI/C9Shc/1FAj8L1KFz/UUCPwvUoXP9RQI/C9Shc/1FAj8L1KFz/UUCPwvUoXP9RQI/C9Shc/1FAj8L1KFz/UUCPwvUoXP9RQI/C9Shc/1FAj8L1KFz/UUCPwvUoXP9RQI/C9Shc/1FAj8L1KFz/UUCPwvUoXP9RQI/C9Shc/1FAj8L1KFz/UUCPwvUoXP9RQI/C9Shc/1FAj8L1KFz/UUCPwvUoXP9RQI/C9Shc/1FAj8L1KFz/UUCPwvUoXP9RQI/C9Shc/1FAj8L1KFz/UUCPwvUoXP9RQI/C9Shc/1FAj8L1KFz/UUCPwvUoXP9RQI/C9Shc/1FAj8L1KFz/UUCPwvUoXP9RQI/C9Shc/1FAj8L1KFz/UUCPwvUoXP9RQI/C9Shc/1FAj8L1KFz/UUCPwvUoXP9RQI/C9Shc/1FAj8L1KFz/UUCPwvUoXP9RQEjhehSuP2BASOF6FK4/YEBI4XoUrj9gQEjhehSuP2BASOF6FK4/YEBI4XoUrj9gQEjhehSuP2BASOF6FK4/YEBI4XoUrj9gQI/C9Shc/1FAj8L1KFz/UUCPwvUoXP9RQI/C9Shc/1FAj8L1KFz/UUCPwvUoXP9RQI/C9Shc/1FAj8L1KFz/UUCPwvUoXP9RQI/C9Shc/1FAj8L1KFz/UUCPwvUoXP9RQI/C9Shc/1FAj8L1KFz/UUCPwvUoXP9RQI/C9Shc/1FAj8L1KFz/UUCPwvUoXP9RQI/C9Shc/1FAj8L1KFz/UUCPwvUoXP9RQI/C9Shc/1FAj8L1KFz/UUCPwvUoXP9RQI/C9Shc/1FAj8L1KFz/UUCPwvUoXP9RQI/C9Shc/1FAj8L1KFz/UUCPwvUoXP9RQI/C9Shc/1FAj8L1KFz/UUCPwvUoXP9RQI/C9Shc/1FAj8L1KFz/UUCPwvUoXP9RQB+F61G4/k1AH4XrUbj+TUAfhetRuP5NQB+F61G4/k1AH4XrUbj+TUAfhetRuP5NQB+F61G4/k1AH4XrUbj+TUAfhetRuP5NQB+F61G4/k1AH4XrUbj+TUAfhetRuP5NQI/C9ShcP1NAj8L1KFw/U0CPwvUoXD9TQI/C9ShcP1NAj8L1KFw/U0CPwvUoXD9TQI/C9ShcP1NAj8L1KFw/U0CPwvUoXD9TQI/C9ShcP1NAj8L1KFw/U0CPwvUoXD9TQI/C9ShcP1NAj8L1KFw/U0CPwvUoXD9TQI/C9ShcP1NAj8L1KFw/U0CPwvUoXD9TQI/C9ShcP1NAj8L1KFw/U0CPwvUoXD9TQI/C9ShcP1NAj8L1KFw/U0CPwvUoXD9TQI/C9ShcP1NAj8L1KFw/U0CPwvUoXD9TQI/C9ShcP1NAj8L1KFw/U0CPwvUoXD9TQI/C9ShcP1NAj8L1KFw/U0CPwvUoXD9TQI/C9ShcP1NAj8L1KFw/U0CPwvUoXD9TQI/C9ShcP1NAj8L1KFw/U0CPwvUoXD9TQI/C9ShcP1NAj8L1KFw/U0CPwvUoXD9TQI/C9ShcP1NAj8L1KFw/U0CPwvUoXD9TQI/C9ShcP1NAj8L1KFw/U0CPwvUoXD9TQI/C9ShcP1NAj8L1KFw/U0CPwvUoXD9TQI/C9ShcP1NAj8L1KFw/U0CPwvUoXD9TQI/C9ShcP1NAj8L1KFw/U0CPwvUoXD9TQI/C9ShcP1NAj8L1KFw/U0CPwvUoXD9TQI/C9Shcv1VAj8L1KFy/VUCPwvUoXL9VQI/C9Shcv1VAj8L1KFy/VUCPwvUoXL9VQI/C9Shcv1VAj8L1KFy/VUCPwvUoXL9VQI/C9Shcv1VAj8L1KFy/VUCPwvUoXL9VQI/C9Shcv1VAj8L1KFy/VUCPwvUoXL9VQI/C9Shcv1VAj8L1KFy/VUCPwvUoXL9VQI/C9Shcv1VAj8L1KFy/VUCPwvUoXL9VQI/C9Shcv1VAj8L1KFy/VUCPwvUoXL9VQI/C9Shcv1BAj8L1KFy/UECPwvUoXL9QQI/C9Shcv1BAj8L1KFy/UECPwvUoXL9QQI/C9Shcv1BAj8L1KFy/UECPwvUoXL9QQI/C9Shcv1BAj8L1KFy/UECPwvUoXL9QQI/C9Shcv1BAj8L1KFy/UECPwvUoXL9QQI/C9Shcv1BAj8L1KFy/UECPwvUoXL9QQI/C9Shcv1BAj8L1KFy/UECPwvUoXL9QQI/C9Shcv1BAj8L1KFy/UECPwvUoXL9QQI/C9Shcv1BAj8L1KFy/UECPwvUoXL9QQI/C9Shcv1BAj8L1KFy/UECPwvUoXL9QQI/C9Shcv1BAj8L1KFy/UECPwvUoXL9QQI/C9Shcv1BAj8L1KFy/UECPwvUoXL9QQI/C9Shc/1NAj8L1KFz/U0CPwvUoXP9TQI/C9Shc/1NAj8L1KFz/U0CPwvUoXP9TQI/C9Shc/1NAj8L1KFz/U0CPwvUoXP9TQI/C9Shc/1NAj8L1KFz/U0CPwvUoXP9TQI/C9Shc/1NAj8L1KFz/U0CPwvUoXP9TQI/C9Shc/1NAj8L1KFz/U0CPwvUoXP9TQI/C9Shc/1NAj8L1KFz/U0CPwvUoXP9TQI/C9Shc/1NAj8L1KFz/U0CPwvUoXP9TQI/C9Shc/1NAj8L1KFz/U0CPwvUoXP9TQI/C9Shc/1NAj8L1KFz/U0CPwvUoXP9TQI/C9Shc/1NAj8L1KFz/U0CPwvUoXP9TQI/C9Shc/1NAj8L1KFz/U0CPwvUoXP9TQI/C9Shc/1NAj8L1KFz/U0CPwvUoXP9TQI/C9Shc/1NAj8L1KFz/U0CPwvUoXP9TQI/C9Shc/1NAj8L1KFz/U0CPwvUoXP9TQI/C9Shc/1NAj8L1KFz/U0CPwvUoXP9TQI/C9Shc/1NAj8L1KFz/U0CPwvUoXP9TQI/C9Shc/1NAj8L1KFz/U0CPwvUoXP9TQI/C9Shc/1NAj8L1KFz/U0CPwvUoXP9TQI/C9Shc/1NAj8L1KFz/U0CPwvUoXP9TQI/C9Shc/1NAj8L1KFz/U0CPwvUoXP9TQI/C9Shc/1NAj8L1KFz/U0CPwvUoXP9TQI/C9Shc/1NAj8L1KFz/U0CPwvUoXP9TQI/C9Shc/1NAj8L1KFz/U0CPwvUoXP9TQI/C9Shc/1NAj8L1KFz/U0CPwvUoXP9TQI/C9ShcP1FAj8L1KFw/UUCPwvUoXD9RQI/C9ShcP1FAj8L1KFw/UUCPwvUoXD9RQI/C9ShcP1FAj8L1KFw/UUCPwvUoXD9RQI/C9ShcP1FAj8L1KFw/UUCPwvUoXD9RQI/C9ShcP1FAj8L1KFw/UUCPwvUoXD9RQI/C9ShcP1FAj8L1KFw/UUCPwvUoXD9RQI/C9ShcP1FAj8L1KFw/UUCPwvUoXD9RQI/C9ShcP1FAj8L1KFw/UUCPwvUoXD9RQI/C9ShcP1FAj8L1KFw/UUCPwvUoXD9RQI/C9ShcP1FAj8L1KFw/UUCPwvUoXD9RQI/C9ShcP1FAj8L1KFw/UUCPwvUoXD9RQI/C9ShcP1FAj8L1KFw/UUCPwvUoXD9RQI/C9ShcP1FAj8L1KFw/UUCPwvUoXD9RQI/C9ShcP1FAj8L1KFw/UUCPwvUoXD9RQI/C9ShcP1FAj8L1KFw/UUCPwvUoXD9RQI/C9ShcP1FAj8L1KFw/UUCPwvUoXD9RQI/C9ShcP1FAj8L1KFw/UUCPwvUoXD9RQI/C9ShcP1FAj8L1KFw/UUCPwvUoXD9RQI/C9ShcP1FAj8L1KFw/UUCPwvUoXD9RQI/C9ShcP1FAj8L1KFw/UUCPwvUoXD9RQI/C9ShcP1FAj8L1KFw/UUCPwvUoXD9RQI/C9ShcP1FAj8L1KFw/UUCPwvUoXD9RQI/C9ShcP1FAj8L1KFw/UUCPwvUoXD9RQI/C9ShcP1FAj8L1KFw/UUCPwvUoXD9RQI/C9ShcP1FAj8L1KFw/UUCPwvUoXD9RQI/C9ShcP1FAj8L1KFw/UUCPwvUoXD9RQI/C9ShcP1FAj8L1KFw/UUCPwvUoXD9RQI/C9ShcP1FAj8L1KFw/UUCPwvUoXD9RQI/C9Shcv1BAj8L1KFy/UECPwvUoXL9QQI/C9Shcv1BAj8L1KFy/UECPwvUoXL9QQI/C9Shcv1BAj8L1KFy/UECPwvUoXL9QQI/C9Shcv1BAj8L1KFy/UECPwvUoXL9QQI/C9Shcv1BAj8L1KFy/UECPwvUoXL9QQI/C9Shcv1BAj8L1KFy/UECPwvUoXL9QQI/C9Shcv1BAj8L1KFy/UECPwvUoXL9QQI/C9Shcv1BAj8L1KFy/UECPwvUoXL9QQI/C9Shcv1BAj8L1KFy/UECPwvUoXL9QQI/C9Shcv1BAj8L1KFy/UECPwvUoXL9QQI/C9Shcv1BAj8L1KFy/UECPwvUoXL9QQI/C9Shcv1BAj8L1KFy/UECPwvUoXL9QQI/C9Shcv1BAj8L1KFy/UECPwvUoXL9QQI/C9Shcv1BAj8L1KFy/UECPwvUoXL9QQI/C9Shcv1BAj8L1KFy/UECPwvUoXL9QQI/C9Shcv1BAj8L1KFy/UECPwvUoXL9QQI/C9Shcv1BAj8L1KFy/UECPwvUoXL9QQI/C9Shcv1BAj8L1KFy/UECPwvUoXL9QQI/C9Shcv1BAj8L1KFy/UECPwvUoXL9QQI/C9Shcv1BAj8L1KFy/UECPwvUoXL9QQI/C9Shcv1BAj8L1KFy/UECPwvUoXL9QQI/C9Shcv1BAj8L1KFy/UECPwvUoXL9QQI/C9Shcv1BAj8L1KFy/UECPwvUoXL9QQI/C9Shcv1BAj8L1KFy/UECPwvUoXL9QQI/C9Shcv1BAj8L1KFy/UECPwvUoXL9QQI/C9Shcv1BAj8L1KFy/UECPwvUoXL9QQI/C9Shcv1BAj8L1KFy/UECPwvUoXL9QQI/C9Shcv1BAj8L1KFy/UECPwvUoXL9QQI/C9Shcv1BAj8L1KFy/UECPwvUoXL9QQI/C9Shcv1BAj8L1KFy/UECPwvUoXL9QQI/C9Shcv1BAj8L1KFy/UECPwvUoXL9QQI/C9Shcv1BAj8L1KFy/UECPwvUoXL9QQI/C9Shcv1BAj8L1KFy/UECPwvUoXL9QQI/C9Shcv1BAj8L1KFy/UECPwvUoXL9QQI/C9Shcv1BAj8L1KFy/UECPwvUoXL9QQI/C9Shcv1BAj8L1KFy/UECPwvUoXL9QQClcj8L1OFFAKVyPwvU4UUApXI/C9ThRQClcj8L1OFFAKVyPwvU4UUApXI/C9ThRQClcj8L1OFFAKVyPwvU4UUApXI/C9ThRQClcj8L1OFFAKVyPwvU4UUApXI/C9ThRQClcj8L1OFFAKVyPwvU4UUApXI/C9ThRQClcj8L1OFFAKVyPwvU4UUApXI/C9ThRQClcj8L1OFFAKVyPwvU4UUApXI/C9ThRQClcj8L1OFFAKVyPwvU4UUApXI/C9ThRQClcj8L1OFFAKVyPwvU4UUApXI/C9ThRQClcj8L1OFFAKVyPwvU4UUApXI/C9ThRQClcj8L1OFFAKVyPwvU4UUApXI/C9ThRQClcj8L1OFFAKVyPwvU4UUApXI/C9ThRQClcj8L1OFFAKVyPwvU4UUApXI/C9ThRQClcj8L1OFFAKVyPwvU4UUApXI/C9ThRQClcj8L1OFFAKVyPwvU4UUApXI/C9ThRQClcj8L1OFFAKVyPwvU4UUApXI/C9ThRQClcj8L1OFFAKVyPwvU4UUApXI/C9ThRQClcj8L1OFFAKVyPwvU4UUApXI/C9ThRQClcj8L1OFFAKVyPwvU4UUApXI/C9ThRQClcj8L1OFFAKVyPwvU4UUApXI/C9ThRQClcj8L1OFFAKVyPwvU4UUAfhetRuD5dQB+F61G4Pl1AH4XrUbg+XUA=",
          "dtype": "f8"
         },
         "xaxis": "x",
         "y": {
          "bdata": "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",
          "dtype": "f8"
         },
         "yaxis": "y"
        }
       ],
       "layout": {
        "legend": {
         "tracegroupgap": 0
        },
        "template": {
         "data": {
          "bar": [
           {
            "error_x": {
             "color": "#2a3f5f"
            },
            "error_y": {
             "color": "#2a3f5f"
            },
            "marker": {
             "line": {
              "color": "#E5ECF6",
              "width": 0.5
             },
             "pattern": {
              "fillmode": "overlay",
              "size": 10,
              "solidity": 0.2
             }
            },
            "type": "bar"
           }
          ],
          "barpolar": [
           {
            "marker": {
             "line": {
              "color": "#E5ECF6",
              "width": 0.5
             },
             "pattern": {
              "fillmode": "overlay",
              "size": 10,
              "solidity": 0.2
             }
            },
            "type": "barpolar"
           }
          ],
          "carpet": [
           {
            "aaxis": {
             "endlinecolor": "#2a3f5f",
             "gridcolor": "white",
             "linecolor": "white",
             "minorgridcolor": "white",
             "startlinecolor": "#2a3f5f"
            },
            "baxis": {
             "endlinecolor": "#2a3f5f",
             "gridcolor": "white",
             "linecolor": "white",
             "minorgridcolor": "white",
             "startlinecolor": "#2a3f5f"
            },
            "type": "carpet"
           }
          ],
          "choropleth": [
           {
            "colorbar": {
             "outlinewidth": 0,
             "ticks": ""
            },
            "type": "choropleth"
           }
          ],
          "contour": [
           {
            "colorbar": {
             "outlinewidth": 0,
             "ticks": ""
            },
            "colorscale": [
             [
              0,
              "#0d0887"
             ],
             [
              0.1111111111111111,
              "#46039f"
             ],
             [
              0.2222222222222222,
              "#7201a8"
             ],
             [
              0.3333333333333333,
              "#9c179e"
             ],
             [
              0.4444444444444444,
              "#bd3786"
             ],
             [
              0.5555555555555556,
              "#d8576b"
             ],
             [
              0.6666666666666666,
              "#ed7953"
             ],
             [
              0.7777777777777778,
              "#fb9f3a"
             ],
             [
              0.8888888888888888,
              "#fdca26"
             ],
             [
              1,
              "#f0f921"
             ]
            ],
            "type": "contour"
           }
          ],
          "contourcarpet": [
           {
            "colorbar": {
             "outlinewidth": 0,
             "ticks": ""
            },
            "type": "contourcarpet"
           }
          ],
          "heatmap": [
           {
            "colorbar": {
             "outlinewidth": 0,
             "ticks": ""
            },
            "colorscale": [
             [
              0,
              "#0d0887"
             ],
             [
              0.1111111111111111,
              "#46039f"
             ],
             [
              0.2222222222222222,
              "#7201a8"
             ],
             [
              0.3333333333333333,
              "#9c179e"
             ],
             [
              0.4444444444444444,
              "#bd3786"
             ],
             [
              0.5555555555555556,
              "#d8576b"
             ],
             [
              0.6666666666666666,
              "#ed7953"
             ],
             [
              0.7777777777777778,
              "#fb9f3a"
             ],
             [
              0.8888888888888888,
              "#fdca26"
             ],
             [
              1,
              "#f0f921"
             ]
            ],
            "type": "heatmap"
           }
          ],
          "histogram": [
           {
            "marker": {
             "pattern": {
              "fillmode": "overlay",
              "size": 10,
              "solidity": 0.2
             }
            },
            "type": "histogram"
           }
          ],
          "histogram2d": [
           {
            "colorbar": {
             "outlinewidth": 0,
             "ticks": ""
            },
            "colorscale": [
             [
              0,
              "#0d0887"
             ],
             [
              0.1111111111111111,
              "#46039f"
             ],
             [
              0.2222222222222222,
              "#7201a8"
             ],
             [
              0.3333333333333333,
              "#9c179e"
             ],
             [
              0.4444444444444444,
              "#bd3786"
             ],
             [
              0.5555555555555556,
              "#d8576b"
             ],
             [
              0.6666666666666666,
              "#ed7953"
             ],
             [
              0.7777777777777778,
              "#fb9f3a"
             ],
             [
              0.8888888888888888,
              "#fdca26"
             ],
             [
              1,
              "#f0f921"
             ]
            ],
            "type": "histogram2d"
           }
          ],
          "histogram2dcontour": [
           {
            "colorbar": {
             "outlinewidth": 0,
             "ticks": ""
            },
            "colorscale": [
             [
              0,
              "#0d0887"
             ],
             [
              0.1111111111111111,
              "#46039f"
             ],
             [
              0.2222222222222222,
              "#7201a8"
             ],
             [
              0.3333333333333333,
              "#9c179e"
             ],
             [
              0.4444444444444444,
              "#bd3786"
             ],
             [
              0.5555555555555556,
              "#d8576b"
             ],
             [
              0.6666666666666666,
              "#ed7953"
             ],
             [
              0.7777777777777778,
              "#fb9f3a"
             ],
             [
              0.8888888888888888,
              "#fdca26"
             ],
             [
              1,
              "#f0f921"
             ]
            ],
            "type": "histogram2dcontour"
           }
          ],
          "mesh3d": [
           {
            "colorbar": {
             "outlinewidth": 0,
             "ticks": ""
            },
            "type": "mesh3d"
           }
          ],
          "parcoords": [
           {
            "line": {
             "colorbar": {
              "outlinewidth": 0,
              "ticks": ""
             }
            },
            "type": "parcoords"
           }
          ],
          "pie": [
           {
            "automargin": true,
            "type": "pie"
           }
          ],
          "scatter": [
           {
            "fillpattern": {
             "fillmode": "overlay",
             "size": 10,
             "solidity": 0.2
            },
            "type": "scatter"
           }
          ],
          "scatter3d": [
           {
            "line": {
             "colorbar": {
              "outlinewidth": 0,
              "ticks": ""
             }
            },
            "marker": {
             "colorbar": {
              "outlinewidth": 0,
              "ticks": ""
             }
            },
            "type": "scatter3d"
           }
          ],
          "scattercarpet": [
           {
            "marker": {
             "colorbar": {
              "outlinewidth": 0,
              "ticks": ""
             }
            },
            "type": "scattercarpet"
           }
          ],
          "scattergeo": [
           {
            "marker": {
             "colorbar": {
              "outlinewidth": 0,
              "ticks": ""
             }
            },
            "type": "scattergeo"
           }
          ],
          "scattergl": [
           {
            "marker": {
             "colorbar": {
              "outlinewidth": 0,
              "ticks": ""
             }
            },
            "type": "scattergl"
           }
          ],
          "scattermap": [
           {
            "marker": {
             "colorbar": {
              "outlinewidth": 0,
              "ticks": ""
             }
            },
            "type": "scattermap"
           }
          ],
          "scattermapbox": [
           {
            "marker": {
             "colorbar": {
              "outlinewidth": 0,
              "ticks": ""
             }
            },
            "type": "scattermapbox"
           }
          ],
          "scatterpolar": [
           {
            "marker": {
             "colorbar": {
              "outlinewidth": 0,
              "ticks": ""
             }
            },
            "type": "scatterpolar"
           }
          ],
          "scatterpolargl": [
           {
            "marker": {
             "colorbar": {
              "outlinewidth": 0,
              "ticks": ""
             }
            },
            "type": "scatterpolargl"
           }
          ],
          "scatterternary": [
           {
            "marker": {
             "colorbar": {
              "outlinewidth": 0,
              "ticks": ""
             }
            },
            "type": "scatterternary"
           }
          ],
          "surface": [
           {
            "colorbar": {
             "outlinewidth": 0,
             "ticks": ""
            },
            "colorscale": [
             [
              0,
              "#0d0887"
             ],
             [
              0.1111111111111111,
              "#46039f"
             ],
             [
              0.2222222222222222,
              "#7201a8"
             ],
             [
              0.3333333333333333,
              "#9c179e"
             ],
             [
              0.4444444444444444,
              "#bd3786"
             ],
             [
              0.5555555555555556,
              "#d8576b"
             ],
             [
              0.6666666666666666,
              "#ed7953"
             ],
             [
              0.7777777777777778,
              "#fb9f3a"
             ],
             [
              0.8888888888888888,
              "#fdca26"
             ],
             [
              1,
              "#f0f921"
             ]
            ],
            "type": "surface"
           }
          ],
          "table": [
           {
            "cells": {
             "fill": {
              "color": "#EBF0F8"
             },
             "line": {
              "color": "white"
             }
            },
            "header": {
             "fill": {
              "color": "#C8D4E3"
             },
             "line": {
              "color": "white"
             }
            },
            "type": "table"
           }
          ]
         },
         "layout": {
          "annotationdefaults": {
           "arrowcolor": "#2a3f5f",
           "arrowhead": 0,
           "arrowwidth": 1
          },
          "autotypenumbers": "strict",
          "coloraxis": {
           "colorbar": {
            "outlinewidth": 0,
            "ticks": ""
           }
          },
          "colorscale": {
           "diverging": [
            [
             0,
             "#8e0152"
            ],
            [
             0.1,
             "#c51b7d"
            ],
            [
             0.2,
             "#de77ae"
            ],
            [
             0.3,
             "#f1b6da"
            ],
            [
             0.4,
             "#fde0ef"
            ],
            [
             0.5,
             "#f7f7f7"
            ],
            [
             0.6,
             "#e6f5d0"
            ],
            [
             0.7,
             "#b8e186"
            ],
            [
             0.8,
             "#7fbc41"
            ],
            [
             0.9,
             "#4d9221"
            ],
            [
             1,
             "#276419"
            ]
           ],
           "sequential": [
            [
             0,
             "#0d0887"
            ],
            [
             0.1111111111111111,
             "#46039f"
            ],
            [
             0.2222222222222222,
             "#7201a8"
            ],
            [
             0.3333333333333333,
             "#9c179e"
            ],
            [
             0.4444444444444444,
             "#bd3786"
            ],
            [
             0.5555555555555556,
             "#d8576b"
            ],
            [
             0.6666666666666666,
             "#ed7953"
            ],
            [
             0.7777777777777778,
             "#fb9f3a"
            ],
            [
             0.8888888888888888,
             "#fdca26"
            ],
            [
             1,
             "#f0f921"
            ]
           ],
           "sequentialminus": [
            [
             0,
             "#0d0887"
            ],
            [
             0.1111111111111111,
             "#46039f"
            ],
            [
             0.2222222222222222,
             "#7201a8"
            ],
            [
             0.3333333333333333,
             "#9c179e"
            ],
            [
             0.4444444444444444,
             "#bd3786"
            ],
            [
             0.5555555555555556,
             "#d8576b"
            ],
            [
             0.6666666666666666,
             "#ed7953"
            ],
            [
             0.7777777777777778,
             "#fb9f3a"
            ],
            [
             0.8888888888888888,
             "#fdca26"
            ],
            [
             1,
             "#f0f921"
            ]
           ]
          },
          "colorway": [
           "#636efa",
           "#EF553B",
           "#00cc96",
           "#ab63fa",
           "#FFA15A",
           "#19d3f3",
           "#FF6692",
           "#B6E880",
           "#FF97FF",
           "#FECB52"
          ],
          "font": {
           "color": "#2a3f5f"
          },
          "geo": {
           "bgcolor": "white",
           "lakecolor": "white",
           "landcolor": "#E5ECF6",
           "showlakes": true,
           "showland": true,
           "subunitcolor": "white"
          },
          "hoverlabel": {
           "align": "left"
          },
          "hovermode": "closest",
          "mapbox": {
           "style": "light"
          },
          "paper_bgcolor": "white",
          "plot_bgcolor": "#E5ECF6",
          "polar": {
           "angularaxis": {
            "gridcolor": "white",
            "linecolor": "white",
            "ticks": ""
           },
           "bgcolor": "#E5ECF6",
           "radialaxis": {
            "gridcolor": "white",
            "linecolor": "white",
            "ticks": ""
           }
          },
          "scene": {
           "xaxis": {
            "backgroundcolor": "#E5ECF6",
            "gridcolor": "white",
            "gridwidth": 2,
            "linecolor": "white",
            "showbackground": true,
            "ticks": "",
            "zerolinecolor": "white"
           },
           "yaxis": {
            "backgroundcolor": "#E5ECF6",
            "gridcolor": "white",
            "gridwidth": 2,
            "linecolor": "white",
            "showbackground": true,
            "ticks": "",
            "zerolinecolor": "white"
           },
           "zaxis": {
            "backgroundcolor": "#E5ECF6",
            "gridcolor": "white",
            "gridwidth": 2,
            "linecolor": "white",
            "showbackground": true,
            "ticks": "",
            "zerolinecolor": "white"
           }
          },
          "shapedefaults": {
           "line": {
            "color": "#2a3f5f"
           }
          },
          "ternary": {
           "aaxis": {
            "gridcolor": "white",
            "linecolor": "white",
            "ticks": ""
           },
           "baxis": {
            "gridcolor": "white",
            "linecolor": "white",
            "ticks": ""
           },
           "bgcolor": "#E5ECF6",
           "caxis": {
            "gridcolor": "white",
            "linecolor": "white",
            "ticks": ""
           }
          },
          "title": {
           "x": 0.05
          },
          "xaxis": {
           "automargin": true,
           "gridcolor": "white",
           "linecolor": "white",
           "ticks": "",
           "title": {
            "standoff": 15
           },
           "zerolinecolor": "white",
           "zerolinewidth": 2
          },
          "yaxis": {
           "automargin": true,
           "gridcolor": "white",
           "linecolor": "white",
           "ticks": "",
           "title": {
            "standoff": 15
           },
           "zerolinecolor": "white",
           "zerolinewidth": 2
          }
         }
        },
        "title": {
         "text": "Preço vs Estoque"
        },
        "xaxis": {
         "anchor": "y",
         "domain": [
          0,
          1
         ],
         "title": {
          "text": "Preço"
         }
        },
        "yaxis": {
         "anchor": "x",
         "domain": [
          0,
          1
         ],
         "title": {
          "text": "Estoque"
         }
        }
       }
      }
     },
     "metadata": {},
     "output_type": "display_data"
    }
   ],
   "source": [
    "# 📊 EDA - Análise Exploratória de Dados para o App Pequenos Grandes PASSOS\n",
    "\n",
    "import pandas as pd\n",
    "import plotly.express as px\n",
    "\n",
    "# Leitura da base de dados\n",
    "df = pd.read_excel(r\"C:\\projeto_loja_limpo\\dados.xlsx\", header=1)\n",
    "df.columns = df.columns.str.strip()\n",
    "\n",
    "# Visualização inicial\n",
    "df.head()\n",
    "df.info()\n",
    "df.isna().sum()\n",
    "\n",
    "# Gráfico 1: Distribuição de preços\n",
    "fig1 = px.histogram(df, x=\"Preço\", nbins=30, title=\"Distribuição de Preços\")\n",
    "fig1.show()\n",
    "\n",
    "# Gráfico 2: Categorias mais frequentes\n",
    "top_categorias = df[\"Categoria\"].value_counts().head(10).reset_index()\n",
    "top_categorias.columns = [\"Categoria\", \"Quantidade\"]\n",
    "fig2 = px.bar(top_categorias, x=\"Categoria\",\n",
    "              y=\"Quantidade\", title=\"Top 10 Categorias\")\n",
    "fig2.show()\n",
    "\n",
    "# Gráfico 3: Distribuição por Gênero\n",
    "if \"Gênero\" in df.columns:\n",
    "    fig3 = px.pie(df, names=\"Gênero\", title=\"Distribuição por Gênero\")\n",
    "    fig3.show()\n",
    "\n",
    "# Gráfico 4: Preço vs Estoque\n",
    "df_scatter = df.dropna(subset=[\"Preço\", \"Estoque\"])\n",
    "fig4 = px.scatter(df_scatter, x=\"Preço\", y=\"Estoque\", title=\"Preço vs Estoque\")\n",
    "fig4.show()"
   ]
  }
 ],
 "metadata": {
  "kernelspec": {
   "display_name": ".venv",
   "language": "python",
   "name": "python3"
  },
  "language_info": {
   "codemirror_mode": {
    "name": "ipython",
    "version": 3
   },
   "file_extension": ".py",
   "mimetype": "text/x-python",
   "name": "python",
   "nbconvert_exporter": "python",
   "pygments_lexer": "ipython3",
   "version": "3.13.5"
  }
 },
 "nbformat": 4,
 "nbformat_minor": 5
}
